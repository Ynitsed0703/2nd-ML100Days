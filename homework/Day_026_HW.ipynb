{
 "cells": [
  {
   "cell_type": "markdown",
   "metadata": {
    "collapsed": true
   },
   "source": [
    "# 範例 : 計程車費率預測\n",
    "https://www.kaggle.com/c/new-york-city-taxi-fare-prediction"
   ]
  },
  {
   "cell_type": "markdown",
   "metadata": {},
   "source": [
    "# [作業目標]\n",
    "- 使用並觀察特徵組合, 在計程車費率預測競賽的影響"
   ]
  },
  {
   "cell_type": "markdown",
   "metadata": {},
   "source": [
    "# [作業重點]\n",
    "- 仿造範例並參考今日課程內容, 使用經緯度一圈的長度比的概念造出新特徵, 觀察有什麼影響 (In[6], Out[6])\n",
    "- 只使用上面所造的這個新特徵, 觀察有什麼影響 (In[7], Out[7])"
   ]
  },
  {
   "cell_type": "code",
   "execution_count": 1,
   "metadata": {},
   "outputs": [],
   "source": [
    "# 程式區塊 A\n",
    "# 將需要的都import進來\n",
    "import os\n",
    "import copy\n",
    "import time\n",
    "import math\n",
    "import numpy             as np\n",
    "import pandas            as pd\n",
    "import seaborn           as sns\n",
    "import datetime          as dt\n",
    "import warnings\n",
    "import matplotlib.pyplot as plt\n",
    "from scipy                   import stats\n",
    "from sklearn.ensemble        import GradientBoostingRegressor\n",
    "from sklearn.linear_model    import LogisticRegression,LinearRegression\n",
    "from sklearn.preprocessing   import LabelEncoder, MinMaxScaler, StandardScaler\n",
    "from sklearn.model_selection import cross_val_score\n",
    "\n",
    "# 將較長的函式改名一下\n",
    "MME  = MinMaxScaler()\n",
    "LE   = LabelEncoder()\n",
    "LR   = LogisticRegression()\n",
    "LIR  = LinearRegression()\n",
    "GBR  = GradientBoostingRegressor()\n",
    "PDDF = pd.DataFrame()\n",
    "# 一些必要的設定\n",
    "warnings.filterwarnings('ignore')\n",
    "%matplotlib inline\n",
    "\n",
    "# 設定【data的資料夾路徑】，命名為【data_folder】\n",
    "data_folder = 'C:/Users/Ynitsed/Documents/GitHub/2nd-ML100Days/data'"
   ]
  },
  {
   "cell_type": "code",
   "execution_count": 2,
   "metadata": {},
   "outputs": [
    {
     "name": "stdout",
     "output_type": "stream",
     "text": [
      "Path of read in data: C:/Users/Ynitsed/Documents/GitHub/2nd-ML100Days/data\\taxi_data1.csv\n",
      "(5000, 7)\n"
     ]
    },
    {
     "data": {
      "text/html": [
       "<div>\n",
       "<style scoped>\n",
       "    .dataframe tbody tr th:only-of-type {\n",
       "        vertical-align: middle;\n",
       "    }\n",
       "\n",
       "    .dataframe tbody tr th {\n",
       "        vertical-align: top;\n",
       "    }\n",
       "\n",
       "    .dataframe thead th {\n",
       "        text-align: right;\n",
       "    }\n",
       "</style>\n",
       "<table border=\"1\" class=\"dataframe\">\n",
       "  <thead>\n",
       "    <tr style=\"text-align: right;\">\n",
       "      <th></th>\n",
       "      <th>fare_amount</th>\n",
       "      <th>pickup_datetime</th>\n",
       "      <th>pickup_longitude</th>\n",
       "      <th>pickup_latitude</th>\n",
       "      <th>dropoff_longitude</th>\n",
       "      <th>dropoff_latitude</th>\n",
       "      <th>passenger_count</th>\n",
       "    </tr>\n",
       "  </thead>\n",
       "  <tbody>\n",
       "    <tr>\n",
       "      <th>0</th>\n",
       "      <td>4.5</td>\n",
       "      <td>2011-10-21 23:54:10 UTC</td>\n",
       "      <td>-73.990580</td>\n",
       "      <td>40.761071</td>\n",
       "      <td>-73.981128</td>\n",
       "      <td>40.758634</td>\n",
       "      <td>2</td>\n",
       "    </tr>\n",
       "    <tr>\n",
       "      <th>1</th>\n",
       "      <td>12.0</td>\n",
       "      <td>2015-02-03 10:42:03 UTC</td>\n",
       "      <td>-73.988403</td>\n",
       "      <td>40.723431</td>\n",
       "      <td>-73.989647</td>\n",
       "      <td>40.741695</td>\n",
       "      <td>1</td>\n",
       "    </tr>\n",
       "    <tr>\n",
       "      <th>2</th>\n",
       "      <td>6.5</td>\n",
       "      <td>2014-03-16 18:58:58 UTC</td>\n",
       "      <td>-74.015785</td>\n",
       "      <td>40.715110</td>\n",
       "      <td>-74.012029</td>\n",
       "      <td>40.707888</td>\n",
       "      <td>2</td>\n",
       "    </tr>\n",
       "    <tr>\n",
       "      <th>3</th>\n",
       "      <td>6.5</td>\n",
       "      <td>2009-06-13 16:10:54 UTC</td>\n",
       "      <td>-73.977322</td>\n",
       "      <td>40.787275</td>\n",
       "      <td>-73.958030</td>\n",
       "      <td>40.778838</td>\n",
       "      <td>3</td>\n",
       "    </tr>\n",
       "    <tr>\n",
       "      <th>4</th>\n",
       "      <td>11.0</td>\n",
       "      <td>2014-06-12 03:25:56 UTC</td>\n",
       "      <td>-73.989683</td>\n",
       "      <td>40.729717</td>\n",
       "      <td>-73.982490</td>\n",
       "      <td>40.761887</td>\n",
       "      <td>3</td>\n",
       "    </tr>\n",
       "  </tbody>\n",
       "</table>\n",
       "</div>"
      ],
      "text/plain": [
       "   fare_amount          pickup_datetime  pickup_longitude  pickup_latitude  \\\n",
       "0          4.5  2011-10-21 23:54:10 UTC        -73.990580        40.761071   \n",
       "1         12.0  2015-02-03 10:42:03 UTC        -73.988403        40.723431   \n",
       "2          6.5  2014-03-16 18:58:58 UTC        -74.015785        40.715110   \n",
       "3          6.5  2009-06-13 16:10:54 UTC        -73.977322        40.787275   \n",
       "4         11.0  2014-06-12 03:25:56 UTC        -73.989683        40.729717   \n",
       "\n",
       "   dropoff_longitude  dropoff_latitude  passenger_count  \n",
       "0         -73.981128         40.758634                2  \n",
       "1         -73.989647         40.741695                1  \n",
       "2         -74.012029         40.707888                2  \n",
       "3         -73.958030         40.778838                3  \n",
       "4         -73.982490         40.761887                3  "
      ]
     },
     "execution_count": 2,
     "metadata": {},
     "output_type": "execute_result"
    }
   ],
   "source": [
    "# 設定t001為某個data路徑\n",
    "# 設定t002為pd裡read data的功能\n",
    "t001_train = os.path.join(data_folder, 'taxi_data1.csv')\n",
    "t002_train = pd.read_csv(t001_train)\n",
    "print('Path of read in data: %s' %t001_train)\n",
    "print(t002_train.shape)\n",
    "t002_train.head()"
   ]
  },
  {
   "cell_type": "code",
   "execution_count": 3,
   "metadata": {
    "scrolled": true
   },
   "outputs": [
    {
     "data": {
      "text/html": [
       "<div>\n",
       "<style scoped>\n",
       "    .dataframe tbody tr th:only-of-type {\n",
       "        vertical-align: middle;\n",
       "    }\n",
       "\n",
       "    .dataframe tbody tr th {\n",
       "        vertical-align: top;\n",
       "    }\n",
       "\n",
       "    .dataframe thead th {\n",
       "        text-align: right;\n",
       "    }\n",
       "</style>\n",
       "<table border=\"1\" class=\"dataframe\">\n",
       "  <thead>\n",
       "    <tr style=\"text-align: right;\">\n",
       "      <th></th>\n",
       "      <th>pickup_datetime</th>\n",
       "      <th>pickup_longitude</th>\n",
       "      <th>pickup_latitude</th>\n",
       "      <th>dropoff_longitude</th>\n",
       "      <th>dropoff_latitude</th>\n",
       "      <th>passenger_count</th>\n",
       "    </tr>\n",
       "  </thead>\n",
       "  <tbody>\n",
       "    <tr>\n",
       "      <th>0</th>\n",
       "      <td>2011-10-21 23:54:10 UTC</td>\n",
       "      <td>-73.990580</td>\n",
       "      <td>40.761071</td>\n",
       "      <td>-73.981128</td>\n",
       "      <td>40.758634</td>\n",
       "      <td>2</td>\n",
       "    </tr>\n",
       "    <tr>\n",
       "      <th>1</th>\n",
       "      <td>2015-02-03 10:42:03 UTC</td>\n",
       "      <td>-73.988403</td>\n",
       "      <td>40.723431</td>\n",
       "      <td>-73.989647</td>\n",
       "      <td>40.741695</td>\n",
       "      <td>1</td>\n",
       "    </tr>\n",
       "    <tr>\n",
       "      <th>2</th>\n",
       "      <td>2014-03-16 18:58:58 UTC</td>\n",
       "      <td>-74.015785</td>\n",
       "      <td>40.715110</td>\n",
       "      <td>-74.012029</td>\n",
       "      <td>40.707888</td>\n",
       "      <td>2</td>\n",
       "    </tr>\n",
       "    <tr>\n",
       "      <th>3</th>\n",
       "      <td>2009-06-13 16:10:54 UTC</td>\n",
       "      <td>-73.977322</td>\n",
       "      <td>40.787275</td>\n",
       "      <td>-73.958030</td>\n",
       "      <td>40.778838</td>\n",
       "      <td>3</td>\n",
       "    </tr>\n",
       "    <tr>\n",
       "      <th>4</th>\n",
       "      <td>2014-06-12 03:25:56 UTC</td>\n",
       "      <td>-73.989683</td>\n",
       "      <td>40.729717</td>\n",
       "      <td>-73.982490</td>\n",
       "      <td>40.761887</td>\n",
       "      <td>3</td>\n",
       "    </tr>\n",
       "  </tbody>\n",
       "</table>\n",
       "</div>"
      ],
      "text/plain": [
       "           pickup_datetime  pickup_longitude  pickup_latitude  \\\n",
       "0  2011-10-21 23:54:10 UTC        -73.990580        40.761071   \n",
       "1  2015-02-03 10:42:03 UTC        -73.988403        40.723431   \n",
       "2  2014-03-16 18:58:58 UTC        -74.015785        40.715110   \n",
       "3  2009-06-13 16:10:54 UTC        -73.977322        40.787275   \n",
       "4  2014-06-12 03:25:56 UTC        -73.989683        40.729717   \n",
       "\n",
       "   dropoff_longitude  dropoff_latitude  passenger_count  \n",
       "0         -73.981128         40.758634                2  \n",
       "1         -73.989647         40.741695                1  \n",
       "2         -74.012029         40.707888                2  \n",
       "3         -73.958030         40.778838                3  \n",
       "4         -73.982490         40.761887                3  "
      ]
     },
     "execution_count": 3,
     "metadata": {},
     "output_type": "execute_result"
    }
   ],
   "source": [
    "# 把【train_Y】先列出來\n",
    "train_Y = t002_train['fare_amount']\n",
    "# 把【train_Y】要的欄位拿掉，可以當作在處理【train_X】，只是還沒到最終步。\n",
    "t003_train = t002_train.drop(['fare_amount'] , axis=1)\n",
    "t003_train.head()"
   ]
  },
  {
   "cell_type": "code",
   "execution_count": 4,
   "metadata": {},
   "outputs": [
    {
     "name": "stdout",
     "output_type": "stream",
     "text": [
      "(5000, 5)\n",
      "Linear Reg Score : 0.009613341943386654\n",
      "Gradient Boosting Reg Score : 0.6976478043764092\n"
     ]
    }
   ],
   "source": [
    "# 1.直接將數值化的欄位(5個變數)拿來跑分數\n",
    "# 將結果使用線性迴歸 / 梯度提升樹分別看結果\n",
    "t004_train = t003_train.drop(['pickup_datetime'] , axis=1)\n",
    "train_X = MME.fit_transform(t004_train)\n",
    "print(train_X.shape)\n",
    "print(f'Linear Reg Score : {cross_val_score(LIR, train_X, train_Y, cv=5).mean()}')\n",
    "print(f'Gradient Boosting Reg Score : {cross_val_score(GBR, train_X, train_Y, cv=5).mean()}')"
   ]
  },
  {
   "cell_type": "code",
   "execution_count": 5,
   "metadata": {},
   "outputs": [
    {
     "data": {
      "text/html": [
       "<div>\n",
       "<style scoped>\n",
       "    .dataframe tbody tr th:only-of-type {\n",
       "        vertical-align: middle;\n",
       "    }\n",
       "\n",
       "    .dataframe tbody tr th {\n",
       "        vertical-align: top;\n",
       "    }\n",
       "\n",
       "    .dataframe thead th {\n",
       "        text-align: right;\n",
       "    }\n",
       "</style>\n",
       "<table border=\"1\" class=\"dataframe\">\n",
       "  <thead>\n",
       "    <tr style=\"text-align: right;\">\n",
       "      <th></th>\n",
       "      <th>pickup_datetime</th>\n",
       "      <th>pickup_longitude</th>\n",
       "      <th>pickup_latitude</th>\n",
       "      <th>dropoff_longitude</th>\n",
       "      <th>dropoff_latitude</th>\n",
       "      <th>passenger_count</th>\n",
       "      <th>pickup_year</th>\n",
       "      <th>pickup_month</th>\n",
       "      <th>pickup_day</th>\n",
       "      <th>pickup_hour</th>\n",
       "      <th>pickup_minute</th>\n",
       "      <th>pickup_second</th>\n",
       "    </tr>\n",
       "  </thead>\n",
       "  <tbody>\n",
       "    <tr>\n",
       "      <th>0</th>\n",
       "      <td>2011-10-21 23:54:10</td>\n",
       "      <td>-73.990580</td>\n",
       "      <td>40.761071</td>\n",
       "      <td>-73.981128</td>\n",
       "      <td>40.758634</td>\n",
       "      <td>2</td>\n",
       "      <td>2011</td>\n",
       "      <td>10</td>\n",
       "      <td>21</td>\n",
       "      <td>23</td>\n",
       "      <td>54</td>\n",
       "      <td>10</td>\n",
       "    </tr>\n",
       "    <tr>\n",
       "      <th>1</th>\n",
       "      <td>2015-02-03 10:42:03</td>\n",
       "      <td>-73.988403</td>\n",
       "      <td>40.723431</td>\n",
       "      <td>-73.989647</td>\n",
       "      <td>40.741695</td>\n",
       "      <td>1</td>\n",
       "      <td>2015</td>\n",
       "      <td>2</td>\n",
       "      <td>3</td>\n",
       "      <td>10</td>\n",
       "      <td>42</td>\n",
       "      <td>3</td>\n",
       "    </tr>\n",
       "    <tr>\n",
       "      <th>2</th>\n",
       "      <td>2014-03-16 18:58:58</td>\n",
       "      <td>-74.015785</td>\n",
       "      <td>40.715110</td>\n",
       "      <td>-74.012029</td>\n",
       "      <td>40.707888</td>\n",
       "      <td>2</td>\n",
       "      <td>2014</td>\n",
       "      <td>3</td>\n",
       "      <td>16</td>\n",
       "      <td>18</td>\n",
       "      <td>58</td>\n",
       "      <td>58</td>\n",
       "    </tr>\n",
       "    <tr>\n",
       "      <th>3</th>\n",
       "      <td>2009-06-13 16:10:54</td>\n",
       "      <td>-73.977322</td>\n",
       "      <td>40.787275</td>\n",
       "      <td>-73.958030</td>\n",
       "      <td>40.778838</td>\n",
       "      <td>3</td>\n",
       "      <td>2009</td>\n",
       "      <td>6</td>\n",
       "      <td>13</td>\n",
       "      <td>16</td>\n",
       "      <td>10</td>\n",
       "      <td>54</td>\n",
       "    </tr>\n",
       "    <tr>\n",
       "      <th>4</th>\n",
       "      <td>2014-06-12 03:25:56</td>\n",
       "      <td>-73.989683</td>\n",
       "      <td>40.729717</td>\n",
       "      <td>-73.982490</td>\n",
       "      <td>40.761887</td>\n",
       "      <td>3</td>\n",
       "      <td>2014</td>\n",
       "      <td>6</td>\n",
       "      <td>12</td>\n",
       "      <td>3</td>\n",
       "      <td>25</td>\n",
       "      <td>56</td>\n",
       "    </tr>\n",
       "  </tbody>\n",
       "</table>\n",
       "</div>"
      ],
      "text/plain": [
       "      pickup_datetime  pickup_longitude  pickup_latitude  dropoff_longitude  \\\n",
       "0 2011-10-21 23:54:10        -73.990580        40.761071         -73.981128   \n",
       "1 2015-02-03 10:42:03        -73.988403        40.723431         -73.989647   \n",
       "2 2014-03-16 18:58:58        -74.015785        40.715110         -74.012029   \n",
       "3 2009-06-13 16:10:54        -73.977322        40.787275         -73.958030   \n",
       "4 2014-06-12 03:25:56        -73.989683        40.729717         -73.982490   \n",
       "\n",
       "   dropoff_latitude  passenger_count  pickup_year  pickup_month  pickup_day  \\\n",
       "0         40.758634                2         2011            10          21   \n",
       "1         40.741695                1         2015             2           3   \n",
       "2         40.707888                2         2014             3          16   \n",
       "3         40.778838                3         2009             6          13   \n",
       "4         40.761887                3         2014             6          12   \n",
       "\n",
       "   pickup_hour  pickup_minute  pickup_second  \n",
       "0           23             54             10  \n",
       "1           10             42              3  \n",
       "2           18             58             58  \n",
       "3           16             10             54  \n",
       "4            3             25             56  "
      ]
     },
     "execution_count": 5,
     "metadata": {},
     "output_type": "execute_result"
    }
   ],
   "source": [
    "# 時間特徵分解方式:使用datetime\n",
    "t003_train['pickup_datetime'] = t003_train['pickup_datetime'].apply(lambda x: dt.datetime.strptime(x, '%Y-%m-%d %H:%M:%S UTC'))\n",
    "t003_train['pickup_year']     = t003_train['pickup_datetime'].apply(lambda x: dt.datetime.strftime(x, '%Y')).astype('int64')\n",
    "t003_train['pickup_month']    = t003_train['pickup_datetime'].apply(lambda x: dt.datetime.strftime(x, '%m')).astype('int64')\n",
    "t003_train['pickup_day']      = t003_train['pickup_datetime'].apply(lambda x: dt.datetime.strftime(x, '%d')).astype('int64')\n",
    "t003_train['pickup_hour']     = t003_train['pickup_datetime'].apply(lambda x: dt.datetime.strftime(x, '%H')).astype('int64')\n",
    "t003_train['pickup_minute']   = t003_train['pickup_datetime'].apply(lambda x: dt.datetime.strftime(x, '%M')).astype('int64')\n",
    "t003_train['pickup_second']   = t003_train['pickup_datetime'].apply(lambda x: dt.datetime.strftime(x, '%S')).astype('int64')\n",
    "# t003_train['pickup_dow']      = t003_train['pickup_datetime'].apply(lambda x: dt.datetime.strftime(x, '%w')).astype('int64')\n",
    "# t003_train['pickup_woy']      = t003_train['pickup_datetime'].apply(lambda x: dt.datetime.strftime(x, '%W')).astype('int64')\n",
    "# t003_train['day_cycle']       = t003_train['pickup_hour']/12 + t003_train['pickup_minute']/720 + t003_train['pickup_second']/43200\n",
    "# t003_train['day_cycle']       = t003_train['day_cycle'].map(lambda x:math.sin(x*math.pi))\n",
    "t003_train.head()"
   ]
  },
  {
   "cell_type": "code",
   "execution_count": 6,
   "metadata": {},
   "outputs": [
    {
     "name": "stdout",
     "output_type": "stream",
     "text": [
      "(5000, 11)\n",
      "Linear Reg Score : 0.026876871475636888\n",
      "Gradient Boosting Reg Score : 0.711451706345192\n"
     ]
    }
   ],
   "source": [
    "# 2.將t003新增的6個欄位(共11個變數)來跑\n",
    "# 將結果使用線性迴歸 / 梯度提升樹分別看結果\n",
    "t004_train = t003_train.drop(['pickup_datetime'] , axis=1)\n",
    "train_X = MME.fit_transform(t004_train)\n",
    "print(train_X.shape)\n",
    "print(f'Linear Reg Score : {cross_val_score(LIR, train_X, train_Y, cv=5).mean()}')\n",
    "print(f'Gradient Boosting Reg Score : {cross_val_score(GBR, train_X, train_Y, cv=5).mean()}')"
   ]
  },
  {
   "cell_type": "code",
   "execution_count": 7,
   "metadata": {},
   "outputs": [
    {
     "data": {
      "text/html": [
       "<div>\n",
       "<style scoped>\n",
       "    .dataframe tbody tr th:only-of-type {\n",
       "        vertical-align: middle;\n",
       "    }\n",
       "\n",
       "    .dataframe tbody tr th {\n",
       "        vertical-align: top;\n",
       "    }\n",
       "\n",
       "    .dataframe thead th {\n",
       "        text-align: right;\n",
       "    }\n",
       "</style>\n",
       "<table border=\"1\" class=\"dataframe\">\n",
       "  <thead>\n",
       "    <tr style=\"text-align: right;\">\n",
       "      <th></th>\n",
       "      <th>distance_2D</th>\n",
       "      <th>longitude_diff</th>\n",
       "      <th>latitude_diff</th>\n",
       "      <th>pickup_longitude</th>\n",
       "      <th>pickup_latitude</th>\n",
       "      <th>dropoff_longitude</th>\n",
       "      <th>dropoff_latitude</th>\n",
       "    </tr>\n",
       "  </thead>\n",
       "  <tbody>\n",
       "    <tr>\n",
       "      <th>0</th>\n",
       "      <td>0.009761</td>\n",
       "      <td>0.009452</td>\n",
       "      <td>-0.002437</td>\n",
       "      <td>-73.990580</td>\n",
       "      <td>40.761071</td>\n",
       "      <td>-73.981128</td>\n",
       "      <td>40.758634</td>\n",
       "    </tr>\n",
       "    <tr>\n",
       "      <th>1</th>\n",
       "      <td>0.018307</td>\n",
       "      <td>-0.001244</td>\n",
       "      <td>0.018265</td>\n",
       "      <td>-73.988403</td>\n",
       "      <td>40.723431</td>\n",
       "      <td>-73.989647</td>\n",
       "      <td>40.741695</td>\n",
       "    </tr>\n",
       "    <tr>\n",
       "      <th>2</th>\n",
       "      <td>0.008140</td>\n",
       "      <td>0.003756</td>\n",
       "      <td>-0.007222</td>\n",
       "      <td>-74.015785</td>\n",
       "      <td>40.715110</td>\n",
       "      <td>-74.012029</td>\n",
       "      <td>40.707888</td>\n",
       "    </tr>\n",
       "    <tr>\n",
       "      <th>3</th>\n",
       "      <td>0.021056</td>\n",
       "      <td>0.019292</td>\n",
       "      <td>-0.008437</td>\n",
       "      <td>-73.977322</td>\n",
       "      <td>40.787275</td>\n",
       "      <td>-73.958030</td>\n",
       "      <td>40.778838</td>\n",
       "    </tr>\n",
       "    <tr>\n",
       "      <th>4</th>\n",
       "      <td>0.032964</td>\n",
       "      <td>0.007193</td>\n",
       "      <td>0.032170</td>\n",
       "      <td>-73.989683</td>\n",
       "      <td>40.729717</td>\n",
       "      <td>-73.982490</td>\n",
       "      <td>40.761887</td>\n",
       "    </tr>\n",
       "  </tbody>\n",
       "</table>\n",
       "</div>"
      ],
      "text/plain": [
       "   distance_2D  longitude_diff  latitude_diff  pickup_longitude  \\\n",
       "0     0.009761        0.009452      -0.002437        -73.990580   \n",
       "1     0.018307       -0.001244       0.018265        -73.988403   \n",
       "2     0.008140        0.003756      -0.007222        -74.015785   \n",
       "3     0.021056        0.019292      -0.008437        -73.977322   \n",
       "4     0.032964        0.007193       0.032170        -73.989683   \n",
       "\n",
       "   pickup_latitude  dropoff_longitude  dropoff_latitude  \n",
       "0        40.761071         -73.981128         40.758634  \n",
       "1        40.723431         -73.989647         40.741695  \n",
       "2        40.715110         -74.012029         40.707888  \n",
       "3        40.787275         -73.958030         40.778838  \n",
       "4        40.729717         -73.982490         40.761887  "
      ]
     },
     "execution_count": 7,
     "metadata": {},
     "output_type": "execute_result"
    }
   ],
   "source": [
    "# 增加緯度差, 經度差, 座標距離等三個特徵\n",
    "t004_train['longitude_diff'] = t004_train['dropoff_longitude'] - t004_train['pickup_longitude']\n",
    "t004_train['latitude_diff'] = t004_train['dropoff_latitude'] - t004_train['pickup_latitude']\n",
    "t004_train['distance_2D'] = (t004_train['longitude_diff']**2 + t004_train['latitude_diff']**2)**0.5\n",
    "t004_train[['distance_2D', 'longitude_diff', 'latitude_diff', 'pickup_longitude', 'pickup_latitude', 'dropoff_longitude', 'dropoff_latitude']].head()"
   ]
  },
  {
   "cell_type": "code",
   "execution_count": 8,
   "metadata": {},
   "outputs": [
    {
     "name": "stdout",
     "output_type": "stream",
     "text": [
      "(5000, 14)\n",
      "Linear Reg Score : 0.027525445787303093\n",
      "Gradient Boosting Reg Score : 0.8038225106415243\n"
     ]
    }
   ],
   "source": [
    "# 3.再新增的3個欄位(共14個變數)來跑\n",
    "# 結果 : 準確度上升\n",
    "train_X = MME.fit_transform(t004_train)\n",
    "print(train_X.shape)\n",
    "print(f'Linear Reg Score : {cross_val_score(LIR, train_X, train_Y, cv=5).mean()}')\n",
    "print(f'Gradient Boosting Reg Score : {cross_val_score(GBR, train_X, train_Y, cv=5).mean()}')"
   ]
  },
  {
   "cell_type": "markdown",
   "metadata": {
    "collapsed": true
   },
   "source": [
    "# 作業1\n",
    "* 參考今日教材，試著使用經緯度一圈的長度比這一概念，組合出一個新特徵，再觀察原特徵加上新特徵是否提升了正確率?"
   ]
  },
  {
   "cell_type": "code",
   "execution_count": 9,
   "metadata": {},
   "outputs": [
    {
     "name": "stdout",
     "output_type": "stream",
     "text": [
      "(5000, 15)\n",
      "Linear Reg Score : 0.025381272659436283\n",
      "Gradient Boosting Reg Score : 0.8022479566546277\n"
     ]
    }
   ],
   "source": [
    "latitude_average = t004_train['pickup_latitude'].mean()\n",
    "latitude_factor = math.cos(latitude_average/180*math.pi)\n",
    "t004_train['distance_real'] = ((t004_train['longitude_diff']*latitude_factor)**2 + t004_train['latitude_diff']**2)**0.5\n",
    "\n",
    "# 4.再新增的1個欄位(共15個變數)來跑\n",
    "# 觀察結果 : 準確度下降\n",
    "train_X = MME.fit_transform(t004_train)\n",
    "print(train_X.shape)\n",
    "print(f'Linear Reg Score : {cross_val_score(LIR, train_X, train_Y, cv=5).mean()}')\n",
    "print(f'Gradient Boosting Reg Score : {cross_val_score(GBR, train_X, train_Y, cv=5).mean()}')"
   ]
  },
  {
   "cell_type": "markdown",
   "metadata": {},
   "source": [
    "# 作業2\n",
    "* 試著只使用新特徵估計目標值(忽略原特徵)，效果跟作業1的結果比較起來效果如何?"
   ]
  },
  {
   "cell_type": "code",
   "execution_count": 10,
   "metadata": {
    "scrolled": false
   },
   "outputs": [
    {
     "name": "stdout",
     "output_type": "stream",
     "text": [
      "(5000, 1)\n",
      "Linear Reg Score : 0.0014462469864103156\n",
      "Gradient Boosting Reg Score : 0.7236450666734193\n"
     ]
    }
   ],
   "source": [
    "# 5.只選1個欄位(特徵化之後的欄位)來跑\n",
    "train_X = MME.fit_transform(t004_train[['distance_real']])\n",
    "print(train_X.shape)\n",
    "print(f'Linear Reg Score : {cross_val_score(LIR, train_X, train_Y, cv=5).mean()}')\n",
    "print(f'Gradient Boosting Reg Score : {cross_val_score(GBR, train_X, train_Y, cv=5).mean()}')"
   ]
  },
  {
   "cell_type": "markdown",
   "metadata": {
    "collapsed": true
   },
   "source": [
    "### Day26教材方向和目標\n",
    "選用【train_X】的理解  \n",
    "[分數實際的意思](https://scikit-learn.org/stable/modules/model_evaluation.html#common-cases-predefined-values)  \n",
    "[Gradient Boosting的概念](https://www.ycc.idv.tw/confusion-matrix.html)\n",
    "\n",
    "### Day26忽略部分\n",
    "\n",
    "\n",
    "### Day26其他補充\n",
    "這裡面有蠻多重要的統計觀念在裡面，這教材是非戰之罪，  \n",
    "因為教材不應該還得教大家統計學，只是一個不懂統計學的人來學這個，  \n",
    "我實在不知道他該如何從完全不會到真的弄得懂。  \n",
    "\n",
    "今天的課程不斷在嘗試製作【train_X】：\n",
    "1. 直接將數值化的欄位(5個變數)拿來跑分數\n",
    "2. 將t003新增的6個欄位(共11個變數)來跑\n",
    "3. 再新增的3個欄位(共14個變數)來跑\n",
    "4. 再新增的1個欄位(共15個變數)來跑\n",
    "5. 只選1個欄位(特徵化之後的欄位)(共1個變數)來跑\n",
    "\n",
    "分數大小順序分別是：  \n",
    "A. 2相較於1上升：因為變數一口氣多了6個，所以解釋度變高很合理，但以增加幅度來看，仍不太有意義。  \n",
    "B. 3相較於2上升：變數多了3個，直接將0.711拉到0.805，可以看出這三個變數加得很不錯  \n",
    "C. 4相較於3下降：只加了1個欄位，而且還和最原始的5個變數其中4個有完全相關，那當然增加這個變數(從14個變成15個)是無效的。  \n",
    "D. 5相較於4下降：當我們只拿4的這一個新增欄位來看，可以發現只放1個變數時，當然會比放了15個變數的解釋度還低。  \n",
    "E. 5相較於1上升：只是只用1個欄位(1個變數)時，卻已經比最原始的5個欄位的解釋度還來得高，可見這1個變數仍是有很大的解釋力。  \n",
    "\n",
    "從上述可發現一些統計學該要有的基礎知識：  \n",
    "從C，增加變數不一定會增加解釋度，必須看這個變數是不是新的，如果根本是拿舊的欄位來做的，那可以想像成已經解釋過了，沒辦法增加解釋，這是【共線性(線性重和)】的議題。  \n",
    "從E，可知道妥當處理過的變數可以增加解釋度，縱使概念上是將4個變數合併成1個，但只要處理得夠好，1個變數即能超過4個變數的解釋度。"
   ]
  },
  {
   "cell_type": "code",
   "execution_count": null,
   "metadata": {},
   "outputs": [],
   "source": []
  }
 ],
 "metadata": {
  "kernelspec": {
   "display_name": "Python 3",
   "language": "python",
   "name": "python3"
  },
  "language_info": {
   "codemirror_mode": {
    "name": "ipython",
    "version": 3
   },
   "file_extension": ".py",
   "mimetype": "text/x-python",
   "name": "python",
   "nbconvert_exporter": "python",
   "pygments_lexer": "ipython3",
   "version": "3.7.3"
  }
 },
 "nbformat": 4,
 "nbformat_minor": 2
}
