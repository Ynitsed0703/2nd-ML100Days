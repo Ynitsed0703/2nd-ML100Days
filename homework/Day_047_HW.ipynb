{
 "cells": [
  {
   "cell_type": "markdown",
   "metadata": {},
   "source": [
    "## [作業重點]\n",
    "了解如何使用 Sklearn 中的 hyper-parameter search 找出最佳的超參數"
   ]
  },
  {
   "cell_type": "markdown",
   "metadata": {},
   "source": [
    "### 作業\n",
    "請使用不同的資料集，並使用 hyper-parameter search 的方式，看能不能找出最佳的超參數組合"
   ]
  },
  {
   "cell_type": "code",
   "execution_count": 1,
   "metadata": {},
   "outputs": [],
   "source": [
    "# 將需要的都import進來\n",
    "import os\n",
    "import copy\n",
    "import time\n",
    "import math\n",
    "import numpy             as np\n",
    "import pandas            as pd\n",
    "import seaborn           as sns\n",
    "import datetime          as dt\n",
    "import warnings\n",
    "import matplotlib.pyplot as plt\n",
    "from scipy                   import stats\n",
    "from itertools               import compress\n",
    "from sklearn.tree            import DecisionTreeClassifier, DecisionTreeRegressor\n",
    "from sklearn.metrics         import roc_curve,mean_squared_error,r2_score,accuracy_score,precision_score,recall_score,fbeta_score\n",
    "from sklearn.ensemble        import GradientBoostingRegressor,GradientBoostingClassifier,RandomForestClassifier,RandomForestRegressor\n",
    "from sklearn.datasets        import load_boston,load_wine,load_breast_cancer\n",
    "from sklearn.linear_model    import LogisticRegression,LinearRegression,Lasso,Ridge\n",
    "from sklearn.preprocessing   import LabelEncoder, MinMaxScaler, StandardScaler,OneHotEncoder\n",
    "from sklearn.model_selection import cross_val_score,train_test_split,KFold,GridSearchCV\n",
    "from IPython.display         import YouTubeVideo\n",
    "\n",
    "# 將較長的函式改名一下\n",
    "MSE  = mean_squared_error\n",
    "ACC  = accuracy_score\n",
    "MME  = MinMaxScaler()\n",
    "LE   = LabelEncoder()\n",
    "OHE  = OneHotEncoder()\n",
    "\n",
    "# 一些必要的設定\n",
    "warnings.filterwarnings('ignore')\n",
    "%matplotlib inline\n",
    "\n",
    "# 設定【data的資料夾路徑】，命名為【data_folder】\n",
    "data_folder = 'C:/Users/Ynitsed/Documents/GitHub/2nd-ML100Days/data'"
   ]
  },
  {
   "cell_type": "code",
   "execution_count": 2,
   "metadata": {},
   "outputs": [
    {
     "name": "stdout",
     "output_type": "stream",
     "text": [
      "(569, 30)\n",
      "   mean radius  mean texture  mean perimeter  mean area  mean smoothness  \\\n",
      "0        17.99         10.38          122.80     1001.0          0.11840   \n",
      "1        20.57         17.77          132.90     1326.0          0.08474   \n",
      "2        19.69         21.25          130.00     1203.0          0.10960   \n",
      "3        11.42         20.38           77.58      386.1          0.14250   \n",
      "4        20.29         14.34          135.10     1297.0          0.10030   \n",
      "\n",
      "   mean compactness  mean concavity  mean concave points  mean symmetry  \\\n",
      "0           0.27760          0.3001              0.14710         0.2419   \n",
      "1           0.07864          0.0869              0.07017         0.1812   \n",
      "2           0.15990          0.1974              0.12790         0.2069   \n",
      "3           0.28390          0.2414              0.10520         0.2597   \n",
      "4           0.13280          0.1980              0.10430         0.1809   \n",
      "\n",
      "   mean fractal dimension  ...  worst radius  worst texture  worst perimeter  \\\n",
      "0                 0.07871  ...         25.38          17.33           184.60   \n",
      "1                 0.05667  ...         24.99          23.41           158.80   \n",
      "2                 0.05999  ...         23.57          25.53           152.50   \n",
      "3                 0.09744  ...         14.91          26.50            98.87   \n",
      "4                 0.05883  ...         22.54          16.67           152.20   \n",
      "\n",
      "   worst area  worst smoothness  worst compactness  worst concavity  \\\n",
      "0      2019.0            0.1622             0.6656           0.7119   \n",
      "1      1956.0            0.1238             0.1866           0.2416   \n",
      "2      1709.0            0.1444             0.4245           0.4504   \n",
      "3       567.7            0.2098             0.8663           0.6869   \n",
      "4      1575.0            0.1374             0.2050           0.4000   \n",
      "\n",
      "   worst concave points  worst symmetry  worst fractal dimension  \n",
      "0                0.2654          0.4601                  0.11890  \n",
      "1                0.1860          0.2750                  0.08902  \n",
      "2                0.2430          0.3613                  0.08758  \n",
      "3                0.2575          0.6638                  0.17300  \n",
      "4                0.1625          0.2364                  0.07678  \n",
      "\n",
      "[5 rows x 30 columns]\n",
      "(569, 1)\n",
      "   target\n",
      "0       0\n",
      "1       0\n",
      "2       0\n",
      "3       0\n",
      "4       0\n"
     ]
    }
   ],
   "source": [
    "# 讀取 breast_cancer 資料\n",
    "t001 = load_breast_cancer()\n",
    "# 轉成dataframe觀看資料：X\n",
    "train_X_t1 = pd.DataFrame(t001.data, columns=t001.feature_names)\n",
    "print(train_X_t1.shape)\n",
    "print(train_X_t1.head())\n",
    "# 轉成dataframe觀看資料：Y\n",
    "train_Y_t1 = pd.DataFrame({\"target\": t001.target})\n",
    "print(train_Y_t1.shape)\n",
    "print(train_Y_t1.head())"
   ]
  },
  {
   "cell_type": "code",
   "execution_count": 3,
   "metadata": {},
   "outputs": [
    {
     "name": "stdout",
     "output_type": "stream",
     "text": [
      "(512, 30)\n",
      "     mean radius  mean texture  mean perimeter  mean area  mean smoothness  \\\n",
      "345        10.26         14.71           66.20      321.6          0.09882   \n",
      "319        12.43         17.00           78.60      477.3          0.07557   \n",
      "72         17.20         24.52          114.20      929.4          0.10710   \n",
      "298        14.26         18.17           91.22      633.1          0.06576   \n",
      "568         7.76         24.54           47.92      181.0          0.05263   \n",
      "\n",
      "     mean compactness  mean concavity  mean concave points  mean symmetry  \\\n",
      "345           0.09159         0.03581              0.02037         0.1633   \n",
      "319           0.03454         0.01342              0.01699         0.1472   \n",
      "72            0.18300         0.16920              0.07944         0.1927   \n",
      "298           0.05220         0.02475              0.01374         0.1635   \n",
      "568           0.04362         0.00000              0.00000         0.1587   \n",
      "\n",
      "     mean fractal dimension  ...  worst radius  worst texture  \\\n",
      "345                 0.07005  ...        10.880          19.48   \n",
      "319                 0.05561  ...        12.900          20.21   \n",
      "72                  0.06487  ...        23.320          33.82   \n",
      "298                 0.05586  ...        16.220          25.26   \n",
      "568                 0.05884  ...         9.456          30.37   \n",
      "\n",
      "     worst perimeter  worst area  worst smoothness  worst compactness  \\\n",
      "345            70.89       357.1           0.13600            0.16360   \n",
      "319            81.76       515.9           0.08409            0.04712   \n",
      "72            151.60      1681.0           0.15850            0.73940   \n",
      "298           105.80       819.7           0.09445            0.21670   \n",
      "568            59.16       268.6           0.08996            0.06444   \n",
      "\n",
      "     worst concavity  worst concave points  worst symmetry  \\\n",
      "345          0.07162               0.04074          0.2434   \n",
      "319          0.02237               0.02832          0.1901   \n",
      "72           0.65660               0.18990          0.3313   \n",
      "298          0.15650               0.07530          0.2636   \n",
      "568          0.00000               0.00000          0.2871   \n",
      "\n",
      "     worst fractal dimension  \n",
      "345                  0.08488  \n",
      "319                  0.05932  \n",
      "72                   0.13390  \n",
      "298                  0.07676  \n",
      "568                  0.07039  \n",
      "\n",
      "[5 rows x 30 columns]\n",
      "(512, 1)\n",
      "     target\n",
      "345       1\n",
      "319       1\n",
      "72        0\n",
      "298       1\n",
      "568       1\n",
      "(57, 30)\n",
      "     mean radius  mean texture  mean perimeter  mean area  mean smoothness  \\\n",
      "340        14.42         16.54           94.15      641.2          0.09751   \n",
      "382        12.05         22.72           78.75      447.8          0.06935   \n",
      "300        19.53         18.90          129.50     1217.0          0.11500   \n",
      "262        17.29         22.13          114.40      947.8          0.08999   \n",
      "363        16.50         18.29          106.60      838.1          0.09686   \n",
      "\n",
      "     mean compactness  mean concavity  mean concave points  mean symmetry  \\\n",
      "340           0.11390         0.08007              0.04223         0.1912   \n",
      "382           0.10730         0.07943              0.02978         0.1203   \n",
      "300           0.16420         0.21970              0.10620         0.1792   \n",
      "262           0.12730         0.09697              0.07507         0.2108   \n",
      "363           0.08468         0.05862              0.04835         0.1495   \n",
      "\n",
      "     mean fractal dimension  ...  worst radius  worst texture  \\\n",
      "340                 0.06412  ...         16.67          21.51   \n",
      "382                 0.06659  ...         12.57          28.71   \n",
      "300                 0.06552  ...         25.93          26.24   \n",
      "262                 0.05464  ...         20.39          27.24   \n",
      "363                 0.05593  ...         18.13          25.45   \n",
      "\n",
      "     worst perimeter  worst area  worst smoothness  worst compactness  \\\n",
      "340           111.40       862.1           0.12940             0.3371   \n",
      "382            87.36       488.4           0.08799             0.3214   \n",
      "300           171.10      2053.0           0.14950             0.4116   \n",
      "262           137.90      1295.0           0.11340             0.2867   \n",
      "363           117.20      1009.0           0.13380             0.1679   \n",
      "\n",
      "     worst concavity  worst concave points  worst symmetry  \\\n",
      "340           0.3755               0.14140          0.3053   \n",
      "382           0.2912               0.10920          0.2191   \n",
      "300           0.6121               0.19800          0.2968   \n",
      "262           0.2298               0.15280          0.3067   \n",
      "363           0.1663               0.09123          0.2394   \n",
      "\n",
      "     worst fractal dimension  \n",
      "340                  0.08764  \n",
      "382                  0.09349  \n",
      "300                  0.09929  \n",
      "262                  0.07484  \n",
      "363                  0.06469  \n",
      "\n",
      "[5 rows x 30 columns]\n",
      "(57, 1)\n",
      "     target\n",
      "340       1\n",
      "382       1\n",
      "300       0\n",
      "262       0\n",
      "363       1\n"
     ]
    }
   ],
   "source": [
    "# 切分訓練集/測試集\n",
    "x_train, x_test, y_train, y_test = train_test_split(train_X_t1, train_Y_t1, test_size=0.1, random_state=4)\n",
    "# 看切完長怎樣\n",
    "print(x_train.shape)\n",
    "print(x_train.head())\n",
    "print(y_train.shape)\n",
    "print(y_train.head())\n",
    "print(x_test.shape)\n",
    "print(x_test.head())\n",
    "print(y_test.shape)\n",
    "print(y_test.head())"
   ]
  },
  {
   "cell_type": "code",
   "execution_count": 4,
   "metadata": {},
   "outputs": [
    {
     "name": "stdout",
     "output_type": "stream",
     "text": [
      "1.0\n",
      "(57,)\n",
      "   0\n",
      "0  0\n",
      "1  1\n",
      "2  0\n",
      "3  0\n",
      "4  0\n",
      "Mean squared error: 0.11\n",
      "Accuracy:  0.8947368421052632\n"
     ]
    }
   ],
   "source": [
    "# GBC1：讓深度是5，max_depth=5\n",
    "GBC1 = GradientBoostingClassifier(loss='deviance',\n",
    "                                  learning_rate=0.1,\n",
    "                                  n_estimators=100,\n",
    "                                  subsample=1.0,\n",
    "                                  criterion='friedman_mse',\n",
    "                                  min_samples_split=2,\n",
    "                                  min_samples_leaf=1,\n",
    "                                  min_weight_fraction_leaf=0.0,\n",
    "                                  max_depth=5,\n",
    "                                  min_impurity_decrease=0.0,\n",
    "                                  min_impurity_split=None,\n",
    "                                  init=None,\n",
    "                                  random_state=None,\n",
    "                                  max_features=None,\n",
    "                                  verbose=0,\n",
    "                                  max_leaf_nodes=None,\n",
    "                                  warm_start=False,\n",
    "                                  presort='auto',\n",
    "                                  validation_fraction=0.1,\n",
    "                                  n_iter_no_change=None,\n",
    "                                  tol=0.0001)\n",
    "GBC1.fit(x_train, y_train)\n",
    "print(GBC1.score(x_train, y_train))\n",
    "# 將x_test丟進上面跑好的回歸模型裡，得到y_pred，也就是預測出來的y_pred。\n",
    "y_pred = GBC1.predict(x_test)\n",
    "print(y_pred.shape)\n",
    "print(pd.DataFrame(y_pred).head())\n",
    "# 看一下預測出來的y_pred和實際的y_test差多少？\n",
    "print(\"Mean squared error: %.2f\"% MSE(y_test, y_pred))\n",
    "print(\"Accuracy: \", ACC(y_test, y_pred))"
   ]
  },
  {
   "cell_type": "code",
   "execution_count": 5,
   "metadata": {},
   "outputs": [
    {
     "name": "stdout",
     "output_type": "stream",
     "text": [
      "Fitting 3 folds for each of 9 candidates, totalling 27 fits\n"
     ]
    },
    {
     "name": "stderr",
     "output_type": "stream",
     "text": [
      "[Parallel(n_jobs=-1)]: Using backend LokyBackend with 4 concurrent workers.\n",
      "[Parallel(n_jobs=-1)]: Done  27 out of  27 | elapsed:    5.0s finished\n"
     ]
    }
   ],
   "source": [
    "# 設定要訓練的超參數組合\n",
    "n = [50, 100, 150]\n",
    "d = [1, 3, 5]\n",
    "grid_param = dict(n_estimators=n,max_depth=d)\n",
    "\n",
    "## 建立搜尋物件，放入模型及參數組合字典 (n_jobs=-1 會使用全部 cpu 平行運算)\n",
    "grid_search = GridSearchCV(GBC1,grid_param,scoring=\"accuracy\",n_jobs=-1, verbose=1)\n",
    "\n",
    "# 開始搜尋最佳參數\n",
    "grid_result = grid_search.fit(x_train, y_train)\n",
    "\n",
    "# 預設會跑 3-fold cross-validadtion，總共 9 種參數組合，總共要 train 27 次模型"
   ]
  },
  {
   "cell_type": "code",
   "execution_count": 6,
   "metadata": {},
   "outputs": [
    {
     "name": "stdout",
     "output_type": "stream",
     "text": [
      "Best Accuracy: 0.958984 using {'max_depth': 1, 'n_estimators': 150}\n"
     ]
    }
   ],
   "source": [
    "# 印出最佳結果與最佳參數\n",
    "print(\"Best Accuracy: %f using %s\" % (grid_result.best_score_, grid_result.best_params_))"
   ]
  },
  {
   "cell_type": "code",
   "execution_count": 7,
   "metadata": {},
   "outputs": [
    {
     "name": "stdout",
     "output_type": "stream",
     "text": [
      "0.9921875\n",
      "(57,)\n",
      "   0\n",
      "0  1\n",
      "1  1\n",
      "2  0\n",
      "3  0\n",
      "4  0\n",
      "Mean squared error: 0.09\n",
      "Accuracy:  0.9122807017543859\n"
     ]
    }
   ],
   "source": [
    "# 使用最佳參數重新建立模型\n",
    "GBC2 = GradientBoostingClassifier(max_depth=grid_result.best_params_['max_depth'],\n",
    "                                  n_estimators=grid_result.best_params_['n_estimators'])\n",
    "# 預測測試集\n",
    "GBC2.fit(x_train, y_train)\n",
    "print(GBC2.score(x_train, y_train))\n",
    "# 將x_test丟進上面跑好的回歸模型裡，得到y_pred，也就是預測出來的y_pred。\n",
    "y_pred = GBC2.predict(x_test)\n",
    "print(y_pred.shape)\n",
    "print(pd.DataFrame(y_pred).head())\n",
    "# 看一下預測出來的y_pred和實際的y_test差多少？\n",
    "print(\"Mean squared error: %.2f\"% MSE(y_test, y_pred))\n",
    "print(\"Accuracy: \", ACC(y_test, y_pred))"
   ]
  },
  {
   "cell_type": "markdown",
   "metadata": {},
   "source": [
    "於是發現系統選出了最佳參數，比原本自己設定的參數要佳。"
   ]
  }
 ],
 "metadata": {
  "kernelspec": {
   "display_name": "Python 3",
   "language": "python",
   "name": "python3"
  },
  "language_info": {
   "codemirror_mode": {
    "name": "ipython",
    "version": 3
   },
   "file_extension": ".py",
   "mimetype": "text/x-python",
   "name": "python",
   "nbconvert_exporter": "python",
   "pygments_lexer": "ipython3",
   "version": "3.7.3"
  }
 },
 "nbformat": 4,
 "nbformat_minor": 2
}
