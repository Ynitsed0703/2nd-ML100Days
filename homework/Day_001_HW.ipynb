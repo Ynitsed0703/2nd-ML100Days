{
 "cells": [
  {
   "cell_type": "markdown",
   "metadata": {},
   "source": [
    "# 作業1：  \n",
    "\n",
    "### 請上 Kaggle, 在 Competitions 或 Dataset 中找一組競賽或資料並寫下：  \n",
    "Ans.  \n",
    "Dataset:[Trending YouTube Video Statistics](https://www.kaggle.com/datasnaek/youtube-new)\n",
    "        \n",
    "## 1. 你選的這組資料為何重要  \n",
    "\n",
    "Ans.  \n",
    "這題目很怪齁，何謂【重要】？  \n",
    "我選這組資料其實不因為它【重要】與否，而是我有【興趣】。  \n",
    "限定使用Kaggle，主要目的應是讓我們熟悉Kaggle的介面和提供資料型式等等的內容，  \n",
    "但大致瀏覽了一下Kaggle Dataset的內容，都不如自己手邊的資料來得有趣：  \n",
    "例如我手邊有2018台北市長各投票所資訊，分析一下開票時間先後，我就能找出到底誰棄保誰；  \n",
    "例如我手邊有完整上市上櫃過去1300個交易日的詳細資料，歸納一下，就能找出期望值高的股票。  \n",
    "這些議題暫時都比Kaggle上我瀏覽到的dataset有趣多了，那題目限定我們硬要在Kaggle選一個嗎？  \n",
    "\n",
    "好吧~ 最後選了【[Trending YouTube Video Statistics](https://www.kaggle.com/datasnaek/youtube-new)】，  \n",
    "在手邊資料處理完後，或許我會對這樣的主題感興趣，先下載下來也無可厚非。  \n",
    "\n",
    "然而，上述說明，皆與【重不重要】一點關係都沒有，  \n",
    "柯P一樣連任了啊，去看棄保重要嗎？不重要啊，但有趣啊~  \n",
    "或許應該說，數據分析的內容，我覺得【有趣】對我而言很【重要】。:)  \n",
    "\n",
    "## 2. 資料從何而來 (tips: 譬如提供者是誰、以什麼方式蒐集)  \n",
    "\n",
    "Ans.  \n",
    "Kaggle，題目不就要我們上Kaggle了？  \n",
    "喔~還是題目問的是，是誰準備了這資料放上Kaggle的？  \n",
    "必須說，我對於這件事的興趣不大，或許等我真用到這份資料的時候，  \n",
    "或發現裡面有一堆必須資料清洗的步驟時，忍不住想發牢騷說這資料到底怎麼收集的，  \n",
    "怎和政府資料開放平台某些內容一樣混亂，那或許我會耐心把這份資料來源的說明給看完，  \n",
    "最後將幹譙的心轉變成感恩的心吧。  \n",
    "\n",
    "## 3. 蒐集而來的資料型態為何  \n",
    "\n",
    "Ans.  \n",
    "我怎知道這資料的心態是什麼？喔喔~ 是型態喔...  \n",
    "csv檔和json檔，可惜有些編碼的問題，導致少數資料的呈現是亂碼，  \n",
    "有些資料長度超過var(255)，這使用上會有點麻煩。  \n",
    "\n",
    "## 4. 這組資料想解決的問題如何評估  \n",
    "  \n",
    "Ans.  \n",
    "主要數據是：  \n",
    "**dim.**publish_time(發佈時間),title(影片名稱),tags(使用的標籤),  \n",
    "**mea.**views(瀏覽量),likes(喜歡的次數),dislikes(不喜灣的次數),comment_count(評論次數),  \n",
    "**T/F.**comments_disabled(是否可以評論)  \n",
    "\n",
    "有幾個不錯的議題可以發揮：  \n",
    "先針對title或tags做text mining後分群。  \n",
    "A. views超過某個最低門檻，like和dislike比值近1，表示正反方意見僵持，可以找出爭議性的主題。  \n",
    "B. comments_disabled，不給評論的主題大概是哪些。(笑)  \n",
    "C. 隨著時間軸，一季或一年的演變，可以大趨勢地看出哪些主題逐漸式微或逐漸被關心。  \n",
    "\n",
    "\n",
    "-----\n",
    "# 作業2：\n",
    "\n",
    "### 想像你經營一個自由載客車隊，你希望能透過數據分析以提升業績，請你思考並描述你如何規劃整體的分析/解決方案：  \n",
    "\n",
    "## 1. 核心問題為何 (tips：如何定義 「提升業績 & 你的假設」)  \n",
    "\n",
    "Ans.  \n",
    "商業模式是什麼？畢竟我不是真的自由載客車隊，這種具體細節並不清楚。  \n",
    "如果我單純是司機，那很清楚【提升業績】就是我的分析主軸；  \n",
    "但如果我是經營團隊，如果我是整個車隊的老闆，獲利模式會有以下幾種可能(外行人猜想)：  \n",
    "A. 向司機抽成  \n",
    "B. 依據司機數量向政府申請補助  \n",
    "C. 依據廣告量向廣告商收取費用(取決於顧客評分)  \n",
    "好的我們就先別想這麼多，單純先看【提升司機業績】就好。  \n",
    "\n",
    "## 2. 資料從何而來 (tips：哪些資料可能會對你想問的問題產生影響 & 資料如何蒐集)  \n",
    "\n",
    "Ans.  \n",
    "A. 導航資料、車型資料、路線資料(含路線與地圖)，來源是車上的硬體。  \n",
    "B. 顧客叫車資料(含叫車時間與出發地點與目的地，最好還有顧客個資，年齡職業等等)，來源是顧客使用的App。  \n",
    "C. [政府資料開放平台](https://data.gov.tw/)，來源是偉大的政府和唐鳳。  \n",
    "D. 所有相關同業載客車隊的營運資料(最好拿得到啦!)，來源是某個同業間諜。  \n",
    "\n",
    "## 3. 蒐集而來的資料型態為何  \n",
    "\n",
    "Ans.  \n",
    "只要是結構化資料都好......最愛csv,txt,xls,  \n",
    "好啦...非結構化我也是能處理啦...有點討厭就是了~  \n",
    "\n",
    "## 4. 你要回答的問題，其如何評估 (tips：你的假設如何驗證)  \n",
    "\n",
    "Ans.  \n",
    "從顧客的叫車時間、出發地、等待時間等等，可以找出【時間地點的熱點】，  \n",
    "若搭配同業派車的資料，派車時間、真正接到顧客的時間等等，  \n",
    "就可以具體推算出【派一台車在熱點附近載客的期望值是多少】？  \n",
    "進而將旗下所有車輛，分配至相對較高期望值的熱點。  \n",
    "\n",
    "閒聊，其實我對於計程車司機大都【不太願意載短程】這件事的原理很有興趣，  \n",
    "因為以跳表的角度，1.25公里70元(相當於每0.2公里11.2元)，之後降為每0.2公里5元，  \n",
    "表示計程車司機應該要盡量增加每趟的載客，因為最前面1.25公里的平均收入最高。  \n",
    "反而應該要降低載長程的客人，因為平均收入會隨單趟里程數越高而越低。  \n",
    "\n",
    "數據是這樣，但現實之所以剛好相反，在於司機整天工時，並不是無縫接軌。  \n",
    "\n",
    "舉例工時8小時，分成：  \n",
    "A. 2趟，耗時4小時的長程載客  \n",
    "B. 32趟，耗時15分鐘的短程載客  \n",
    "以數據來看，當然是B最好，B的收入較高。  \n",
    "\n",
    "但重點在於司機做不到B這件事，尤其是那些在特定地點排隊載客的司機，  \n",
    "他一趟載客之後，就又必須重新排隊，【而排隊時間是沒有收入的。】  \n",
    "這也迫使得司機必須盡量拉長每趟載客的時間，好讓自己排隊的次數降低。  \n",
    "\n",
    "因此透過數據分析，如果能將【熱點密度】規劃出來，  \n",
    "意即在還沒有顧客呼叫時，就先推測這地點即將有顧客呼叫，  \n",
    "那麼，司機在載完客之後，只要到最近的熱點就好，不需要回到原位置重新排隊，  \n",
    "降低空車的時間，增加無縫接軌的狀態，這才是最終目標。  \n",
    "  \n",
    "  \n",
    "  \n",
    "好了~ 閒聊太多了，  \n",
    "不知道這種Day0還這麼認真回答的有幾個，有看到記得介紹給我認識。  \n",
    "我是張小馬，謝謝大家。  "
   ]
  },
  {
   "cell_type": "markdown",
   "metadata": {},
   "source": [
    "# 作業3：  \n",
    "\n",
    "# 練習時間\n",
    "#### 請寫一個函式用來計算 Mean Square Error\n",
    "$ MSE = \\frac{1}{n}\\sum_{i=1}^{n}{(Y_i - \\hat{Y}_i)^2} $\n",
    "### Hint: [如何取平方](https://googoodesign.gitbooks.io/-ezpython/unit-1.html)"
   ]
  },
  {
   "cell_type": "code",
   "execution_count": 2,
   "metadata": {},
   "outputs": [],
   "source": [
    "import numpy as np\n",
    "import matplotlib.pyplot as plt"
   ]
  },
  {
   "cell_type": "code",
   "execution_count": 3,
   "metadata": {},
   "outputs": [],
   "source": [
    "def mean_squared_error(y, yp):\n",
    "    mse = sum(   (y - yp)**2) / len(y)\n",
    "    return mse\n",
    "\n",
    "def mean_absolute_error(y, yp):\n",
    "    mae = sum(abs(y - yp)   ) / len(y)\n",
    "    return mae"
   ]
  },
  {
   "cell_type": "code",
   "execution_count": 4,
   "metadata": {
    "scrolled": true
   },
   "outputs": [
    {
     "data": {
      "image/png": "[encoded data removed]",
      "text/plain": [
       "<Figure size 432x288 with 1 Axes>"
      ]
     },
     "metadata": {
      "needs_background": "light"
     },
     "output_type": "display_data"
    }
   ],
   "source": [
    "w = 3\n",
    "b = 0.5\n",
    "x_lin = np.linspace(0, 100, 101)\n",
    "y = (x_lin + np.random.randn(101) * 5) * w + b\n",
    "plt.plot(x_lin, y, 'b.', label = 'data points')\n",
    "plt.title(\"Assume we have data points\")\n",
    "plt.legend(loc = 2)\n",
    "plt.show()"
   ]
  },
  {
   "cell_type": "code",
   "execution_count": 5,
   "metadata": {
    "scrolled": false
   },
   "outputs": [
    {
     "data": {
      "image/png": "[encoded data removed]",
      "text/plain": [
       "<Figure size 432x288 with 1 Axes>"
      ]
     },
     "metadata": {
      "needs_background": "light"
     },
     "output_type": "display_data"
    }
   ],
   "source": [
    "y_hat = x_lin * w + b\n",
    "plt.plot(x_lin, y, 'b.', label = 'data')\n",
    "plt.plot(x_lin, y_hat, 'r-', label = 'prediction')\n",
    "plt.title(\"Assume we have data points (And the prediction)\")\n",
    "plt.legend(loc = 2)\n",
    "plt.show()"
   ]
  },
  {
   "cell_type": "code",
   "execution_count": 7,
   "metadata": {
    "scrolled": true
   },
   "outputs": [
    {
     "name": "stdout",
     "output_type": "stream",
     "text": [
      "The Mean squared error is 246.915\n",
      "The Mean absolute error is 11.923\n"
     ]
    }
   ],
   "source": [
    "# 執行 Function, 確認有沒有正常執行\n",
    "MSE = mean_squared_error(y, y_hat)\n",
    "MAE = mean_absolute_error(y, y_hat)\n",
    "print(\"The Mean squared error is %.3f\" % (MSE))\n",
    "print(\"The Mean absolute error is %.3f\" % (MAE))"
   ]
  }
 ],
 "metadata": {
  "anaconda-cloud": {},
  "kernelspec": {
   "display_name": "Python 3",
   "language": "python",
   "name": "python3"
  },
  "language_info": {
   "codemirror_mode": {
    "name": "ipython",
    "version": 3
   },
   "file_extension": ".py",
   "mimetype": "text/x-python",
   "name": "python",
   "nbconvert_exporter": "python",
   "pygments_lexer": "ipython3",
   "version": "3.7.3"
  }
 },
 "nbformat": 4,
 "nbformat_minor": 1
}
