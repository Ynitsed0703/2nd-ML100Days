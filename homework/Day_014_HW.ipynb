{
 "cells": [
  {
   "cell_type": "markdown",
   "metadata": {},
   "source": [
    "## 作業\n",
    "### 請使用 application_train.csv, 根據不同的 HOUSETYPE_MODE 對 AMT_CREDIT 繪製 Histogram"
   ]
  },
  {
   "cell_type": "markdown",
   "metadata": {},
   "source": [
    "# [作業目標]\n",
    "- 試著調整資料, 並利用提供的程式繪製分布圖"
   ]
  },
  {
   "cell_type": "markdown",
   "metadata": {},
   "source": [
    "# [作業重點]\n",
    "- 如何將列出相異的 HOUSETYPE_MODE 類別 (In[3])\n",
    "- 如何依照不同的 HOUSETYPE_MODE 類別指定資料, 並繪製長條圖(.hist())? (In[3])"
   ]
  },
  {
   "cell_type": "code",
   "execution_count": 1,
   "metadata": {},
   "outputs": [],
   "source": [
    "import os\n",
    "import pandas            as pd\n",
    "import numpy             as np\n",
    "import seaborn           as sns\n",
    "import matplotlib.pyplot as plt\n",
    "import math\n",
    "import warnings\n",
    "warnings.filterwarnings('ignore')\n",
    "%matplotlib inline"
   ]
  },
  {
   "cell_type": "code",
   "execution_count": 2,
   "metadata": {
    "scrolled": true
   },
   "outputs": [
    {
     "name": "stdout",
     "output_type": "stream",
     "text": [
      "Path of read in data: C:/Users/Ynitsed/Documents/GitHub/2nd-ML100Days/data\\application_train.csv\n",
      "(307511, 122)\n"
     ]
    },
    {
     "data": {
      "text/html": [
       "<div>\n",
       "<style scoped>\n",
       "    .dataframe tbody tr th:only-of-type {\n",
       "        vertical-align: middle;\n",
       "    }\n",
       "\n",
       "    .dataframe tbody tr th {\n",
       "        vertical-align: top;\n",
       "    }\n",
       "\n",
       "    .dataframe thead th {\n",
       "        text-align: right;\n",
       "    }\n",
       "</style>\n",
       "<table border=\"1\" class=\"dataframe\">\n",
       "  <thead>\n",
       "    <tr style=\"text-align: right;\">\n",
       "      <th></th>\n",
       "      <th>SK_ID_CURR</th>\n",
       "      <th>TARGET</th>\n",
       "      <th>NAME_CONTRACT_TYPE</th>\n",
       "      <th>CODE_GENDER</th>\n",
       "      <th>FLAG_OWN_CAR</th>\n",
       "      <th>FLAG_OWN_REALTY</th>\n",
       "      <th>CNT_CHILDREN</th>\n",
       "      <th>AMT_INCOME_TOTAL</th>\n",
       "      <th>AMT_CREDIT</th>\n",
       "      <th>AMT_ANNUITY</th>\n",
       "      <th>...</th>\n",
       "      <th>FLAG_DOCUMENT_18</th>\n",
       "      <th>FLAG_DOCUMENT_19</th>\n",
       "      <th>FLAG_DOCUMENT_20</th>\n",
       "      <th>FLAG_DOCUMENT_21</th>\n",
       "      <th>AMT_REQ_CREDIT_BUREAU_HOUR</th>\n",
       "      <th>AMT_REQ_CREDIT_BUREAU_DAY</th>\n",
       "      <th>AMT_REQ_CREDIT_BUREAU_WEEK</th>\n",
       "      <th>AMT_REQ_CREDIT_BUREAU_MON</th>\n",
       "      <th>AMT_REQ_CREDIT_BUREAU_QRT</th>\n",
       "      <th>AMT_REQ_CREDIT_BUREAU_YEAR</th>\n",
       "    </tr>\n",
       "  </thead>\n",
       "  <tbody>\n",
       "    <tr>\n",
       "      <th>0</th>\n",
       "      <td>100002</td>\n",
       "      <td>1</td>\n",
       "      <td>Cash loans</td>\n",
       "      <td>M</td>\n",
       "      <td>N</td>\n",
       "      <td>Y</td>\n",
       "      <td>0</td>\n",
       "      <td>202500.0</td>\n",
       "      <td>406597.5</td>\n",
       "      <td>24700.5</td>\n",
       "      <td>...</td>\n",
       "      <td>0</td>\n",
       "      <td>0</td>\n",
       "      <td>0</td>\n",
       "      <td>0</td>\n",
       "      <td>0.0</td>\n",
       "      <td>0.0</td>\n",
       "      <td>0.0</td>\n",
       "      <td>0.0</td>\n",
       "      <td>0.0</td>\n",
       "      <td>1.0</td>\n",
       "    </tr>\n",
       "    <tr>\n",
       "      <th>1</th>\n",
       "      <td>100003</td>\n",
       "      <td>0</td>\n",
       "      <td>Cash loans</td>\n",
       "      <td>F</td>\n",
       "      <td>N</td>\n",
       "      <td>N</td>\n",
       "      <td>0</td>\n",
       "      <td>270000.0</td>\n",
       "      <td>1293502.5</td>\n",
       "      <td>35698.5</td>\n",
       "      <td>...</td>\n",
       "      <td>0</td>\n",
       "      <td>0</td>\n",
       "      <td>0</td>\n",
       "      <td>0</td>\n",
       "      <td>0.0</td>\n",
       "      <td>0.0</td>\n",
       "      <td>0.0</td>\n",
       "      <td>0.0</td>\n",
       "      <td>0.0</td>\n",
       "      <td>0.0</td>\n",
       "    </tr>\n",
       "    <tr>\n",
       "      <th>2</th>\n",
       "      <td>100004</td>\n",
       "      <td>0</td>\n",
       "      <td>Revolving loans</td>\n",
       "      <td>M</td>\n",
       "      <td>Y</td>\n",
       "      <td>Y</td>\n",
       "      <td>0</td>\n",
       "      <td>67500.0</td>\n",
       "      <td>135000.0</td>\n",
       "      <td>6750.0</td>\n",
       "      <td>...</td>\n",
       "      <td>0</td>\n",
       "      <td>0</td>\n",
       "      <td>0</td>\n",
       "      <td>0</td>\n",
       "      <td>0.0</td>\n",
       "      <td>0.0</td>\n",
       "      <td>0.0</td>\n",
       "      <td>0.0</td>\n",
       "      <td>0.0</td>\n",
       "      <td>0.0</td>\n",
       "    </tr>\n",
       "    <tr>\n",
       "      <th>3</th>\n",
       "      <td>100006</td>\n",
       "      <td>0</td>\n",
       "      <td>Cash loans</td>\n",
       "      <td>F</td>\n",
       "      <td>N</td>\n",
       "      <td>Y</td>\n",
       "      <td>0</td>\n",
       "      <td>135000.0</td>\n",
       "      <td>312682.5</td>\n",
       "      <td>29686.5</td>\n",
       "      <td>...</td>\n",
       "      <td>0</td>\n",
       "      <td>0</td>\n",
       "      <td>0</td>\n",
       "      <td>0</td>\n",
       "      <td>NaN</td>\n",
       "      <td>NaN</td>\n",
       "      <td>NaN</td>\n",
       "      <td>NaN</td>\n",
       "      <td>NaN</td>\n",
       "      <td>NaN</td>\n",
       "    </tr>\n",
       "    <tr>\n",
       "      <th>4</th>\n",
       "      <td>100007</td>\n",
       "      <td>0</td>\n",
       "      <td>Cash loans</td>\n",
       "      <td>M</td>\n",
       "      <td>N</td>\n",
       "      <td>Y</td>\n",
       "      <td>0</td>\n",
       "      <td>121500.0</td>\n",
       "      <td>513000.0</td>\n",
       "      <td>21865.5</td>\n",
       "      <td>...</td>\n",
       "      <td>0</td>\n",
       "      <td>0</td>\n",
       "      <td>0</td>\n",
       "      <td>0</td>\n",
       "      <td>0.0</td>\n",
       "      <td>0.0</td>\n",
       "      <td>0.0</td>\n",
       "      <td>0.0</td>\n",
       "      <td>0.0</td>\n",
       "      <td>0.0</td>\n",
       "    </tr>\n",
       "  </tbody>\n",
       "</table>\n",
       "<p>5 rows × 122 columns</p>\n",
       "</div>"
      ],
      "text/plain": [
       "   SK_ID_CURR  TARGET NAME_CONTRACT_TYPE CODE_GENDER FLAG_OWN_CAR  \\\n",
       "0      100002       1         Cash loans           M            N   \n",
       "1      100003       0         Cash loans           F            N   \n",
       "2      100004       0    Revolving loans           M            Y   \n",
       "3      100006       0         Cash loans           F            N   \n",
       "4      100007       0         Cash loans           M            N   \n",
       "\n",
       "  FLAG_OWN_REALTY  CNT_CHILDREN  AMT_INCOME_TOTAL  AMT_CREDIT  AMT_ANNUITY  \\\n",
       "0               Y             0          202500.0    406597.5      24700.5   \n",
       "1               N             0          270000.0   1293502.5      35698.5   \n",
       "2               Y             0           67500.0    135000.0       6750.0   \n",
       "3               Y             0          135000.0    312682.5      29686.5   \n",
       "4               Y             0          121500.0    513000.0      21865.5   \n",
       "\n",
       "   ...  FLAG_DOCUMENT_18 FLAG_DOCUMENT_19 FLAG_DOCUMENT_20 FLAG_DOCUMENT_21  \\\n",
       "0  ...                 0                0                0                0   \n",
       "1  ...                 0                0                0                0   \n",
       "2  ...                 0                0                0                0   \n",
       "3  ...                 0                0                0                0   \n",
       "4  ...                 0                0                0                0   \n",
       "\n",
       "  AMT_REQ_CREDIT_BUREAU_HOUR AMT_REQ_CREDIT_BUREAU_DAY  \\\n",
       "0                        0.0                       0.0   \n",
       "1                        0.0                       0.0   \n",
       "2                        0.0                       0.0   \n",
       "3                        NaN                       NaN   \n",
       "4                        0.0                       0.0   \n",
       "\n",
       "   AMT_REQ_CREDIT_BUREAU_WEEK  AMT_REQ_CREDIT_BUREAU_MON  \\\n",
       "0                         0.0                        0.0   \n",
       "1                         0.0                        0.0   \n",
       "2                         0.0                        0.0   \n",
       "3                         NaN                        NaN   \n",
       "4                         0.0                        0.0   \n",
       "\n",
       "   AMT_REQ_CREDIT_BUREAU_QRT  AMT_REQ_CREDIT_BUREAU_YEAR  \n",
       "0                        0.0                         1.0  \n",
       "1                        0.0                         0.0  \n",
       "2                        0.0                         0.0  \n",
       "3                        NaN                         NaN  \n",
       "4                        0.0                         0.0  \n",
       "\n",
       "[5 rows x 122 columns]"
      ]
     },
     "execution_count": 2,
     "metadata": {},
     "output_type": "execute_result"
    }
   ],
   "source": [
    "# 設定【data的資料夾路徑】，命名為【data_folder】\n",
    "data_folder = 'C:/Users/Ynitsed/Documents/GitHub/2nd-ML100Days/data'\n",
    "\n",
    "# 設定t001為某個data路徑\n",
    "# 設定t002為pd裡read data的功能\n",
    "t001 = os.path.join(data_folder, 'application_train.csv')\n",
    "t002 = pd.read_csv(t001)\n",
    "print('Path of read in data: %s' %t001)\n",
    "print(t002.shape)\n",
    "t002.head()"
   ]
  },
  {
   "cell_type": "code",
   "execution_count": 3,
   "metadata": {},
   "outputs": [
    {
     "data": {
      "text/plain": [
       "0    block of flats\n",
       "1    block of flats\n",
       "2               NaN\n",
       "3               NaN\n",
       "4               NaN\n",
       "Name: HOUSETYPE_MODE, dtype: object"
      ]
     },
     "execution_count": 3,
     "metadata": {},
     "output_type": "execute_result"
    }
   ],
   "source": [
    "t002_sub = t002['HOUSETYPE_MODE']\n",
    "t002_sub.head(5)"
   ]
  },
  {
   "cell_type": "code",
   "execution_count": 4,
   "metadata": {
    "scrolled": true
   },
   "outputs": [
    {
     "data": {
      "text/plain": [
       "block of flats      150503\n",
       "specific housing      1499\n",
       "terraced house        1212\n",
       "Name: HOUSETYPE_MODE, dtype: int64"
      ]
     },
     "execution_count": 4,
     "metadata": {},
     "output_type": "execute_result"
    }
   ],
   "source": [
    "# 看一下【HOUSETYPE_MODE】的狀況\n",
    "t002['HOUSETYPE_MODE'].value_counts()"
   ]
  },
  {
   "cell_type": "code",
   "execution_count": 5,
   "metadata": {},
   "outputs": [
    {
     "name": "stdout",
     "output_type": "stream",
     "text": [
      "HOUSETYPE_MODE\n",
      "block of flats      622673.854627\n",
      "specific housing    569013.724483\n",
      "terraced house      604587.252475\n",
      "Name: AMT_CREDIT, dtype: float64\n",
      "                     count           mean            std      min       25%  \\\n",
      "HOUSETYPE_MODE                                                                \n",
      "block of flats    150503.0  622673.854627  420686.888053  45000.0  276277.5   \n",
      "specific housing    1499.0  569013.724483  370176.140276  45000.0  270000.0   \n",
      "terraced house      1212.0  604587.252475  389040.994229  49500.0  284400.0   \n",
      "\n",
      "                       50%       75%        max  \n",
      "HOUSETYPE_MODE                                   \n",
      "block of flats    522927.0  837000.0  4050000.0  \n",
      "specific housing  495000.0  781920.0  2517300.0  \n",
      "terraced house    533668.5  808650.0  2517300.0  \n"
     ]
    }
   ],
   "source": [
    "t003 = t002.groupby('HOUSETYPE_MODE')['AMT_CREDIT']\n",
    "print(t003.mean())\n",
    "print(t003.describe())"
   ]
  },
  {
   "cell_type": "code",
   "execution_count": 6,
   "metadata": {},
   "outputs": [
    {
     "data": {
      "text/plain": [
       "array(['block of flats', nan, 'terraced house', 'specific housing'],\n",
       "      dtype=object)"
      ]
     },
     "execution_count": 6,
     "metadata": {},
     "output_type": "execute_result"
    }
   ],
   "source": [
    "t004 = t002['HOUSETYPE_MODE'].unique()\n",
    "t004\n",
    "# 可以發現【HOUSETYPE_MODE】有4個內容，包括null(nan)。"
   ]
  },
  {
   "cell_type": "code",
   "execution_count": 7,
   "metadata": {},
   "outputs": [
    {
     "data": {
      "image/png": "[encoded data removed]",
      "text/plain": [
       "<Figure size 576x288 with 1 Axes>"
      ]
     },
     "metadata": {
      "needs_background": "light"
     },
     "output_type": "display_data"
    }
   ],
   "source": [
    "# 圖片大小，要先寫\n",
    "plt.figure(figsize=(8,4))\n",
    "\n",
    "# 設定for迴圈\n",
    "for i in range(len(t004)):\n",
    "    t002.loc[t002['HOUSETYPE_MODE'] == t004[i], \"AMT_CREDIT\"].hist()\n",
    "plt.show()\n",
    "\n",
    "# 先弄懂一張圖是什麼意思：\n",
    "# hist自動切了一個bin，依據【AMT_CREDIT】這個measure的狀況去切\n",
    "# 只是我們現在是跑迴圈，所以會在同一張圖跑4次。"
   ]
  },
  {
   "cell_type": "code",
   "execution_count": 8,
   "metadata": {},
   "outputs": [
    {
     "data": {
      "image/png": "[encoded data removed]",
      "text/plain": [
       "<Figure size 1152x288 with 4 Axes>"
      ]
     },
     "metadata": {
      "needs_background": "light"
     },
     "output_type": "display_data"
    }
   ],
   "source": [
    "# 現在我們要把4張圖拆開，但該如何讓上面這步驟，知道要拆成【4張圖】呢？\n",
    "# 即是利用subplot這東西。\n",
    "\n",
    "# 依據t004的個數當作行、直接指定1列\n",
    "ncols = len(t004)\n",
    "nrows = 1\n",
    "\n",
    "# 圖片大小，要先寫\n",
    "plt.figure(figsize=(16,4))\n",
    "\n",
    "# \n",
    "for i in range(len(t004)):\n",
    "    plt.subplot(nrows, ncols, i+1)\n",
    "    t002.loc[t002['HOUSETYPE_MODE'] == t004[i], \"AMT_CREDIT\"].hist()\n",
    "    plt.title(t004[i])\n",
    "\n",
    "plt.show()\n",
    "\n",
    "# 再弄懂四張圖是什麼意思：\n",
    "# hist自動切了一個bin，依據【AMT_CREDIT】這個measure的狀況去切\n",
    "# 我們現在跑迴圈，還利用了subplot這個函式，去將跑了4次的圖給拆開成4張圖。\n",
    "# 但這4張圖的排列方式，是1*4 or 2*2 or 4*1，要利用subplot的參數去設計。\n",
    "# 在測試過程中，會發現subplot會先判斷 ncols 這個參數，等於是先設計好有幾個欄位，再開始把圖從第一列第一欄放上去。\n",
    "# 而當列位不足時，就會跳錯誤，所以順序上應該先設計【ncols】再設計【nrows】。原教材答案的設計方式並不正確。"
   ]
  },
  {
   "cell_type": "code",
   "execution_count": 9,
   "metadata": {},
   "outputs": [
    {
     "data": {
      "image/png": "[encoded data removed]",
      "text/plain": [
       "<Figure size 1152x1152 with 4 Axes>"
      ]
     },
     "metadata": {
      "needs_background": "light"
     },
     "output_type": "display_data"
    }
   ],
   "source": [
    "# 使用不同的 HOUSETYPE_MODE 類別繪製圖形, 並使用 subplot 排版\n",
    "t004 = t002['HOUSETYPE_MODE'].unique()\n",
    "\n",
    "# 這是原教材的寫法，會令人不懂【nrows//2】是在幹什麼？\n",
    "# 先設計row的觀念也是錯誤的\n",
    "# 而且只有4張圖，照以下設計卻設計了8個位置，不由得讓人好奇出題者自己懂不懂這個意義？\n",
    "nrows = len(t004)    # = 4\n",
    "ncols = nrows // 2   # = 2\n",
    "                     # 4*2=8\n",
    "\n",
    "# 圖片大小，要先寫\n",
    "plt.figure(figsize=(16,16))\n",
    "\n",
    "# \n",
    "for i in range(len(t004)):\n",
    "    plt.subplot(nrows, ncols, i+1)\n",
    "    t002.loc[t002['HOUSETYPE_MODE'] == t004[i], \"AMT_CREDIT\"].hist()\n",
    "    plt.title(t004[i])\n",
    "\n",
    "plt.show()    "
   ]
  },
  {
   "cell_type": "code",
   "execution_count": 10,
   "metadata": {},
   "outputs": [
    {
     "data": {
      "image/png": "[encoded data removed]",
      "text/plain": [
       "<Figure size 1152x1152 with 4 Axes>"
      ]
     },
     "metadata": {
      "needs_background": "light"
     },
     "output_type": "display_data"
    }
   ],
   "source": [
    "# 使用不同的 HOUSETYPE_MODE 類別繪製圖形, 並使用 subplot 排版\n",
    "t004 = t002['HOUSETYPE_MODE'].unique()\n",
    "\n",
    "# 先設計ncols才對，不管圖片有幾張，反正就是以兩欄的方式呈現\n",
    "ncols = 2\n",
    "# 既然圖片已經被我拆成了2欄，那只需要【圖片總數/2】的列位就夠了\n",
    "# 擔心剛好不能被2整除，所以要無條件進入，這樣的列位數才夠。\n",
    "# 例如若你設計 ncols = 3，那你需要ceil(4/3)=2個列位(總共2*3=6個位置)才能裝得下4張圖片。\n",
    "nrows = math.ceil(len(t004) / ncols)\n",
    "# 換句話說，我們總共設計了【圖片總數/2】*【2】=【圖片總數】的位置，要存放我們將要拆的圖片。\n",
    "\n",
    "# 圖片大小，要先寫\n",
    "plt.figure(figsize=(16,16))\n",
    "\n",
    "# 看來subplot最後一個參數，都是從1開始，偏偏range是從0開始，只好寫成i+1了\n",
    "# 我還是不懂python當初的設計，為何不直接從1開始就好，弄成這樣不是徒增自己困擾？\n",
    "# i+1，range(4)，也就是會從1跑到4，會剛好有4張圖片。\n",
    "# i+2，range(4)，也就是會從2跑到5，可以試著改看看，會跳錯誤，為什麼會跳錯呢？\n",
    "# 因為前面【ncols】和【nrows】你只設計了4個空間要給他跑，但現在卻要求要塞在第5個位置(第一欄第三列，但我沒有設計第三列啊)，當然會錯了。\n",
    "# 從nan(第2個)在右上角也可以看出，系統是先將第一列由左至右填滿，再往下填下一列。再次得證，要先決定好【ncols】才是對的。\n",
    "for i in range(len(t004)):\n",
    "    plt.subplot(nrows, ncols, i+1)\n",
    "    t002.loc[t002['HOUSETYPE_MODE'] == t004[i], \"AMT_CREDIT\"].hist()\n",
    "    plt.title(t004[i])\n",
    "\n",
    "plt.show()    "
   ]
  },
  {
   "cell_type": "markdown",
   "metadata": {},
   "source": [
    "### Day14教材方向和目標\n",
    "1. plt.subplot(nrows, ncols, i+1)\n",
    "\n",
    "### Day14忽略部分\n",
    "無\n",
    " \n",
    "### Day14其他補充\n",
    "皆在上述murmur完，教材先設計nrows是錯誤觀念。  \n",
    "如果圖片填補順序是先將欄位填滿，再往下一個列位去填，  \n",
    "那當然應該要先把欄位數確定下來，列位數再依據設定好的欄位數去調整。  \n",
    "[社群詢問](https://www.cupoy.com/qa/kwassist/ai_tw/0000016A838367EE0000026B6375706F795F72656C656173655155455354)"
   ]
  }
 ],
 "metadata": {
  "anaconda-cloud": {},
  "kernelspec": {
   "display_name": "Python 3",
   "language": "python",
   "name": "python3"
  },
  "language_info": {
   "codemirror_mode": {
    "name": "ipython",
    "version": 3
   },
   "file_extension": ".py",
   "mimetype": "text/x-python",
   "name": "python",
   "nbconvert_exporter": "python",
   "pygments_lexer": "ipython3",
   "version": "3.7.3"
  }
 },
 "nbformat": 4,
 "nbformat_minor": 1
}
