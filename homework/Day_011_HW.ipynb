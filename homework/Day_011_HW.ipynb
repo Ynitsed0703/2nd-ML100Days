{
 "cells": [
  {
   "cell_type": "markdown",
   "metadata": {},
   "source": [
    "# [EDA] 了解變數分布狀態: Bar & KDE (density plot)"
   ]
  },
  {
   "cell_type": "markdown",
   "metadata": {},
   "source": [
    "# To do: 變項的分群比較\n",
    "1. 自 20 到 70 歲，切 11 個點，進行分群比較 (KDE plot)\n",
    "2. 以年齡區間為 x, target 為 y 繪製 barplot"
   ]
  },
  {
   "cell_type": "markdown",
   "metadata": {},
   "source": [
    "# [作業目標]\n",
    "- 試著調整資料, 並利用提供的程式繪製分布圖"
   ]
  },
  {
   "cell_type": "markdown",
   "metadata": {},
   "source": [
    "# [作業重點]\n",
    "- 如何將資料依照歲數, 將 20 到 70 歲切成11個區間? (In[4], Hint : 使用 numpy.linspace),  \n",
    "  送入繪圖前的除了排序外, 還要注意什麼? (In[5])\n",
    "- 如何調整對應資料, 以繪製長條圖(bar chart)? (In[7])"
   ]
  },
  {
   "cell_type": "code",
   "execution_count": 1,
   "metadata": {},
   "outputs": [],
   "source": [
    "import os\n",
    "import pandas as pd\n",
    "import numpy  as np\n",
    "import matplotlib.pyplot as plt\n",
    "%matplotlib inline"
   ]
  },
  {
   "cell_type": "code",
   "execution_count": 2,
   "metadata": {},
   "outputs": [
    {
     "name": "stdout",
     "output_type": "stream",
     "text": [
      "Path of read in data: C:/Users/Ynitsed/Documents/GitHub/2nd-ML100Days/data\\application_train.csv\n",
      "(307511, 122)\n"
     ]
    },
    {
     "data": {
      "text/html": [
       "<div>\n",
       "<style scoped>\n",
       "    .dataframe tbody tr th:only-of-type {\n",
       "        vertical-align: middle;\n",
       "    }\n",
       "\n",
       "    .dataframe tbody tr th {\n",
       "        vertical-align: top;\n",
       "    }\n",
       "\n",
       "    .dataframe thead th {\n",
       "        text-align: right;\n",
       "    }\n",
       "</style>\n",
       "<table border=\"1\" class=\"dataframe\">\n",
       "  <thead>\n",
       "    <tr style=\"text-align: right;\">\n",
       "      <th></th>\n",
       "      <th>SK_ID_CURR</th>\n",
       "      <th>TARGET</th>\n",
       "      <th>NAME_CONTRACT_TYPE</th>\n",
       "      <th>CODE_GENDER</th>\n",
       "      <th>FLAG_OWN_CAR</th>\n",
       "      <th>FLAG_OWN_REALTY</th>\n",
       "      <th>CNT_CHILDREN</th>\n",
       "      <th>AMT_INCOME_TOTAL</th>\n",
       "      <th>AMT_CREDIT</th>\n",
       "      <th>AMT_ANNUITY</th>\n",
       "      <th>...</th>\n",
       "      <th>FLAG_DOCUMENT_18</th>\n",
       "      <th>FLAG_DOCUMENT_19</th>\n",
       "      <th>FLAG_DOCUMENT_20</th>\n",
       "      <th>FLAG_DOCUMENT_21</th>\n",
       "      <th>AMT_REQ_CREDIT_BUREAU_HOUR</th>\n",
       "      <th>AMT_REQ_CREDIT_BUREAU_DAY</th>\n",
       "      <th>AMT_REQ_CREDIT_BUREAU_WEEK</th>\n",
       "      <th>AMT_REQ_CREDIT_BUREAU_MON</th>\n",
       "      <th>AMT_REQ_CREDIT_BUREAU_QRT</th>\n",
       "      <th>AMT_REQ_CREDIT_BUREAU_YEAR</th>\n",
       "    </tr>\n",
       "  </thead>\n",
       "  <tbody>\n",
       "    <tr>\n",
       "      <th>0</th>\n",
       "      <td>100002</td>\n",
       "      <td>1</td>\n",
       "      <td>Cash loans</td>\n",
       "      <td>M</td>\n",
       "      <td>N</td>\n",
       "      <td>Y</td>\n",
       "      <td>0</td>\n",
       "      <td>202500.0</td>\n",
       "      <td>406597.5</td>\n",
       "      <td>24700.5</td>\n",
       "      <td>...</td>\n",
       "      <td>0</td>\n",
       "      <td>0</td>\n",
       "      <td>0</td>\n",
       "      <td>0</td>\n",
       "      <td>0.0</td>\n",
       "      <td>0.0</td>\n",
       "      <td>0.0</td>\n",
       "      <td>0.0</td>\n",
       "      <td>0.0</td>\n",
       "      <td>1.0</td>\n",
       "    </tr>\n",
       "    <tr>\n",
       "      <th>1</th>\n",
       "      <td>100003</td>\n",
       "      <td>0</td>\n",
       "      <td>Cash loans</td>\n",
       "      <td>F</td>\n",
       "      <td>N</td>\n",
       "      <td>N</td>\n",
       "      <td>0</td>\n",
       "      <td>270000.0</td>\n",
       "      <td>1293502.5</td>\n",
       "      <td>35698.5</td>\n",
       "      <td>...</td>\n",
       "      <td>0</td>\n",
       "      <td>0</td>\n",
       "      <td>0</td>\n",
       "      <td>0</td>\n",
       "      <td>0.0</td>\n",
       "      <td>0.0</td>\n",
       "      <td>0.0</td>\n",
       "      <td>0.0</td>\n",
       "      <td>0.0</td>\n",
       "      <td>0.0</td>\n",
       "    </tr>\n",
       "    <tr>\n",
       "      <th>2</th>\n",
       "      <td>100004</td>\n",
       "      <td>0</td>\n",
       "      <td>Revolving loans</td>\n",
       "      <td>M</td>\n",
       "      <td>Y</td>\n",
       "      <td>Y</td>\n",
       "      <td>0</td>\n",
       "      <td>67500.0</td>\n",
       "      <td>135000.0</td>\n",
       "      <td>6750.0</td>\n",
       "      <td>...</td>\n",
       "      <td>0</td>\n",
       "      <td>0</td>\n",
       "      <td>0</td>\n",
       "      <td>0</td>\n",
       "      <td>0.0</td>\n",
       "      <td>0.0</td>\n",
       "      <td>0.0</td>\n",
       "      <td>0.0</td>\n",
       "      <td>0.0</td>\n",
       "      <td>0.0</td>\n",
       "    </tr>\n",
       "    <tr>\n",
       "      <th>3</th>\n",
       "      <td>100006</td>\n",
       "      <td>0</td>\n",
       "      <td>Cash loans</td>\n",
       "      <td>F</td>\n",
       "      <td>N</td>\n",
       "      <td>Y</td>\n",
       "      <td>0</td>\n",
       "      <td>135000.0</td>\n",
       "      <td>312682.5</td>\n",
       "      <td>29686.5</td>\n",
       "      <td>...</td>\n",
       "      <td>0</td>\n",
       "      <td>0</td>\n",
       "      <td>0</td>\n",
       "      <td>0</td>\n",
       "      <td>NaN</td>\n",
       "      <td>NaN</td>\n",
       "      <td>NaN</td>\n",
       "      <td>NaN</td>\n",
       "      <td>NaN</td>\n",
       "      <td>NaN</td>\n",
       "    </tr>\n",
       "    <tr>\n",
       "      <th>4</th>\n",
       "      <td>100007</td>\n",
       "      <td>0</td>\n",
       "      <td>Cash loans</td>\n",
       "      <td>M</td>\n",
       "      <td>N</td>\n",
       "      <td>Y</td>\n",
       "      <td>0</td>\n",
       "      <td>121500.0</td>\n",
       "      <td>513000.0</td>\n",
       "      <td>21865.5</td>\n",
       "      <td>...</td>\n",
       "      <td>0</td>\n",
       "      <td>0</td>\n",
       "      <td>0</td>\n",
       "      <td>0</td>\n",
       "      <td>0.0</td>\n",
       "      <td>0.0</td>\n",
       "      <td>0.0</td>\n",
       "      <td>0.0</td>\n",
       "      <td>0.0</td>\n",
       "      <td>0.0</td>\n",
       "    </tr>\n",
       "  </tbody>\n",
       "</table>\n",
       "<p>5 rows × 122 columns</p>\n",
       "</div>"
      ],
      "text/plain": [
       "   SK_ID_CURR  TARGET NAME_CONTRACT_TYPE CODE_GENDER FLAG_OWN_CAR  \\\n",
       "0      100002       1         Cash loans           M            N   \n",
       "1      100003       0         Cash loans           F            N   \n",
       "2      100004       0    Revolving loans           M            Y   \n",
       "3      100006       0         Cash loans           F            N   \n",
       "4      100007       0         Cash loans           M            N   \n",
       "\n",
       "  FLAG_OWN_REALTY  CNT_CHILDREN  AMT_INCOME_TOTAL  AMT_CREDIT  AMT_ANNUITY  \\\n",
       "0               Y             0          202500.0    406597.5      24700.5   \n",
       "1               N             0          270000.0   1293502.5      35698.5   \n",
       "2               Y             0           67500.0    135000.0       6750.0   \n",
       "3               Y             0          135000.0    312682.5      29686.5   \n",
       "4               Y             0          121500.0    513000.0      21865.5   \n",
       "\n",
       "   ...  FLAG_DOCUMENT_18 FLAG_DOCUMENT_19 FLAG_DOCUMENT_20 FLAG_DOCUMENT_21  \\\n",
       "0  ...                 0                0                0                0   \n",
       "1  ...                 0                0                0                0   \n",
       "2  ...                 0                0                0                0   \n",
       "3  ...                 0                0                0                0   \n",
       "4  ...                 0                0                0                0   \n",
       "\n",
       "  AMT_REQ_CREDIT_BUREAU_HOUR AMT_REQ_CREDIT_BUREAU_DAY  \\\n",
       "0                        0.0                       0.0   \n",
       "1                        0.0                       0.0   \n",
       "2                        0.0                       0.0   \n",
       "3                        NaN                       NaN   \n",
       "4                        0.0                       0.0   \n",
       "\n",
       "   AMT_REQ_CREDIT_BUREAU_WEEK  AMT_REQ_CREDIT_BUREAU_MON  \\\n",
       "0                         0.0                        0.0   \n",
       "1                         0.0                        0.0   \n",
       "2                         0.0                        0.0   \n",
       "3                         NaN                        NaN   \n",
       "4                         0.0                        0.0   \n",
       "\n",
       "   AMT_REQ_CREDIT_BUREAU_QRT  AMT_REQ_CREDIT_BUREAU_YEAR  \n",
       "0                        0.0                         1.0  \n",
       "1                        0.0                         0.0  \n",
       "2                        0.0                         0.0  \n",
       "3                        NaN                         NaN  \n",
       "4                        0.0                         0.0  \n",
       "\n",
       "[5 rows x 122 columns]"
      ]
     },
     "execution_count": 2,
     "metadata": {},
     "output_type": "execute_result"
    }
   ],
   "source": [
    "# 設定【data的資料夾路徑】，命名為【data_folder】\n",
    "data_folder = 'C:/Users/Ynitsed/Documents/GitHub/2nd-ML100Days/data'\n",
    "\n",
    "# 設定t001為某個data路徑\n",
    "# 設定t002為pd裡read data的功能\n",
    "# 註釋一下路徑位置，%s參數(和%d)的使用方法與限制，參考learning。\n",
    "t001 = os.path.join(data_folder, 'application_train.csv')\n",
    "t002 = pd.read_csv(t001)\n",
    "print('Path of read in data: %s' %t001)\n",
    "print(t002.shape)\n",
    "t002.head()"
   ]
  },
  {
   "cell_type": "code",
   "execution_count": 3,
   "metadata": {},
   "outputs": [],
   "source": [
    "# 不解此意義用意\n",
    "plt.style.use('ggplot')\n",
    "\n",
    "# 載入另一個繪圖-樣式套件\n",
    "import seaborn as sns\n",
    "\n",
    "# 忽略警告訊息\n",
    "import warnings\n",
    "warnings.filterwarnings('ignore')"
   ]
  },
  {
   "cell_type": "code",
   "execution_count": 4,
   "metadata": {
    "scrolled": false
   },
   "outputs": [
    {
     "name": "stdout",
     "output_type": "stream",
     "text": [
      "head\n",
      " 265026    25229\n",
      "124430    25201\n",
      "63316     25201\n",
      "143266    25200\n",
      "169562    25197\n",
      "Name: DAYS_BIRTH, dtype: int64\n",
      "tail\n",
      " 137182    7678\n",
      "170384    7676\n",
      "53702     7676\n",
      "168135    7673\n",
      "235444    7489\n",
      "Name: DAYS_BIRTH, dtype: int64\n"
     ]
    }
   ],
   "source": [
    "# 資料整理 ('DAYS_BIRTH'全部取絕對值 )\n",
    "t002['DAYS_BIRTH'] = abs(t002['DAYS_BIRTH'])\n",
    "t003 = t002.sort_index(by='DAYS_BIRTH',ascending=False)\n",
    "print('head\\n', t003['DAYS_BIRTH'].head(5))\n",
    "print('tail\\n', t003['DAYS_BIRTH'].tail(5))"
   ]
  },
  {
   "cell_type": "code",
   "execution_count": 5,
   "metadata": {
    "scrolled": true
   },
   "outputs": [
    {
     "data": {
      "text/html": [
       "<div>\n",
       "<style scoped>\n",
       "    .dataframe tbody tr th:only-of-type {\n",
       "        vertical-align: middle;\n",
       "    }\n",
       "\n",
       "    .dataframe tbody tr th {\n",
       "        vertical-align: top;\n",
       "    }\n",
       "\n",
       "    .dataframe thead th {\n",
       "        text-align: right;\n",
       "    }\n",
       "</style>\n",
       "<table border=\"1\" class=\"dataframe\">\n",
       "  <thead>\n",
       "    <tr style=\"text-align: right;\">\n",
       "      <th></th>\n",
       "      <th>TARGET</th>\n",
       "      <th>DAYS_BIRTH</th>\n",
       "    </tr>\n",
       "  </thead>\n",
       "  <tbody>\n",
       "    <tr>\n",
       "      <th>0</th>\n",
       "      <td>1</td>\n",
       "      <td>9461</td>\n",
       "    </tr>\n",
       "    <tr>\n",
       "      <th>1</th>\n",
       "      <td>0</td>\n",
       "      <td>16765</td>\n",
       "    </tr>\n",
       "    <tr>\n",
       "      <th>2</th>\n",
       "      <td>0</td>\n",
       "      <td>19046</td>\n",
       "    </tr>\n",
       "    <tr>\n",
       "      <th>3</th>\n",
       "      <td>0</td>\n",
       "      <td>19005</td>\n",
       "    </tr>\n",
       "    <tr>\n",
       "      <th>4</th>\n",
       "      <td>0</td>\n",
       "      <td>19932</td>\n",
       "    </tr>\n",
       "    <tr>\n",
       "      <th>5</th>\n",
       "      <td>0</td>\n",
       "      <td>16941</td>\n",
       "    </tr>\n",
       "    <tr>\n",
       "      <th>6</th>\n",
       "      <td>0</td>\n",
       "      <td>13778</td>\n",
       "    </tr>\n",
       "    <tr>\n",
       "      <th>7</th>\n",
       "      <td>0</td>\n",
       "      <td>18850</td>\n",
       "    </tr>\n",
       "    <tr>\n",
       "      <th>8</th>\n",
       "      <td>0</td>\n",
       "      <td>20099</td>\n",
       "    </tr>\n",
       "    <tr>\n",
       "      <th>9</th>\n",
       "      <td>0</td>\n",
       "      <td>14469</td>\n",
       "    </tr>\n",
       "    <tr>\n",
       "      <th>10</th>\n",
       "      <td>0</td>\n",
       "      <td>10197</td>\n",
       "    </tr>\n",
       "    <tr>\n",
       "      <th>11</th>\n",
       "      <td>0</td>\n",
       "      <td>20417</td>\n",
       "    </tr>\n",
       "    <tr>\n",
       "      <th>12</th>\n",
       "      <td>0</td>\n",
       "      <td>13439</td>\n",
       "    </tr>\n",
       "    <tr>\n",
       "      <th>13</th>\n",
       "      <td>0</td>\n",
       "      <td>14086</td>\n",
       "    </tr>\n",
       "    <tr>\n",
       "      <th>14</th>\n",
       "      <td>0</td>\n",
       "      <td>14583</td>\n",
       "    </tr>\n",
       "  </tbody>\n",
       "</table>\n",
       "</div>"
      ],
      "text/plain": [
       "    TARGET  DAYS_BIRTH\n",
       "0        1        9461\n",
       "1        0       16765\n",
       "2        0       19046\n",
       "3        0       19005\n",
       "4        0       19932\n",
       "5        0       16941\n",
       "6        0       13778\n",
       "7        0       18850\n",
       "8        0       20099\n",
       "9        0       14469\n",
       "10       0       10197\n",
       "11       0       20417\n",
       "12       0       13439\n",
       "13       0       14086\n",
       "14       0       14583"
      ]
     },
     "execution_count": 5,
     "metadata": {},
     "output_type": "execute_result"
    }
   ],
   "source": [
    "# select欄位的概念，兩個[[]]\n",
    "t004 = t002[['TARGET', 'DAYS_BIRTH']] #subset\n",
    "t004.head(15)"
   ]
  },
  {
   "cell_type": "code",
   "execution_count": 6,
   "metadata": {},
   "outputs": [
    {
     "data": {
      "text/html": [
       "<div>\n",
       "<style scoped>\n",
       "    .dataframe tbody tr th:only-of-type {\n",
       "        vertical-align: middle;\n",
       "    }\n",
       "\n",
       "    .dataframe tbody tr th {\n",
       "        vertical-align: top;\n",
       "    }\n",
       "\n",
       "    .dataframe thead th {\n",
       "        text-align: right;\n",
       "    }\n",
       "</style>\n",
       "<table border=\"1\" class=\"dataframe\">\n",
       "  <thead>\n",
       "    <tr style=\"text-align: right;\">\n",
       "      <th></th>\n",
       "      <th>TARGET</th>\n",
       "      <th>DAYS_BIRTH</th>\n",
       "      <th>YEARS_BIRTH_YEAR</th>\n",
       "    </tr>\n",
       "  </thead>\n",
       "  <tbody>\n",
       "    <tr>\n",
       "      <th>0</th>\n",
       "      <td>1</td>\n",
       "      <td>9461</td>\n",
       "      <td>25.920548</td>\n",
       "    </tr>\n",
       "    <tr>\n",
       "      <th>1</th>\n",
       "      <td>0</td>\n",
       "      <td>16765</td>\n",
       "      <td>45.931507</td>\n",
       "    </tr>\n",
       "    <tr>\n",
       "      <th>2</th>\n",
       "      <td>0</td>\n",
       "      <td>19046</td>\n",
       "      <td>52.180822</td>\n",
       "    </tr>\n",
       "    <tr>\n",
       "      <th>3</th>\n",
       "      <td>0</td>\n",
       "      <td>19005</td>\n",
       "      <td>52.068493</td>\n",
       "    </tr>\n",
       "    <tr>\n",
       "      <th>4</th>\n",
       "      <td>0</td>\n",
       "      <td>19932</td>\n",
       "      <td>54.608219</td>\n",
       "    </tr>\n",
       "    <tr>\n",
       "      <th>5</th>\n",
       "      <td>0</td>\n",
       "      <td>16941</td>\n",
       "      <td>46.413699</td>\n",
       "    </tr>\n",
       "    <tr>\n",
       "      <th>6</th>\n",
       "      <td>0</td>\n",
       "      <td>13778</td>\n",
       "      <td>37.747945</td>\n",
       "    </tr>\n",
       "    <tr>\n",
       "      <th>7</th>\n",
       "      <td>0</td>\n",
       "      <td>18850</td>\n",
       "      <td>51.643836</td>\n",
       "    </tr>\n",
       "    <tr>\n",
       "      <th>8</th>\n",
       "      <td>0</td>\n",
       "      <td>20099</td>\n",
       "      <td>55.065753</td>\n",
       "    </tr>\n",
       "    <tr>\n",
       "      <th>9</th>\n",
       "      <td>0</td>\n",
       "      <td>14469</td>\n",
       "      <td>39.641096</td>\n",
       "    </tr>\n",
       "    <tr>\n",
       "      <th>10</th>\n",
       "      <td>0</td>\n",
       "      <td>10197</td>\n",
       "      <td>27.936986</td>\n",
       "    </tr>\n",
       "    <tr>\n",
       "      <th>11</th>\n",
       "      <td>0</td>\n",
       "      <td>20417</td>\n",
       "      <td>55.936986</td>\n",
       "    </tr>\n",
       "    <tr>\n",
       "      <th>12</th>\n",
       "      <td>0</td>\n",
       "      <td>13439</td>\n",
       "      <td>36.819178</td>\n",
       "    </tr>\n",
       "    <tr>\n",
       "      <th>13</th>\n",
       "      <td>0</td>\n",
       "      <td>14086</td>\n",
       "      <td>38.591781</td>\n",
       "    </tr>\n",
       "    <tr>\n",
       "      <th>14</th>\n",
       "      <td>0</td>\n",
       "      <td>14583</td>\n",
       "      <td>39.953425</td>\n",
       "    </tr>\n",
       "  </tbody>\n",
       "</table>\n",
       "</div>"
      ],
      "text/plain": [
       "    TARGET  DAYS_BIRTH  YEARS_BIRTH_YEAR\n",
       "0        1        9461         25.920548\n",
       "1        0       16765         45.931507\n",
       "2        0       19046         52.180822\n",
       "3        0       19005         52.068493\n",
       "4        0       19932         54.608219\n",
       "5        0       16941         46.413699\n",
       "6        0       13778         37.747945\n",
       "7        0       18850         51.643836\n",
       "8        0       20099         55.065753\n",
       "9        0       14469         39.641096\n",
       "10       0       10197         27.936986\n",
       "11       0       20417         55.936986\n",
       "12       0       13439         36.819178\n",
       "13       0       14086         38.591781\n",
       "14       0       14583         39.953425"
      ]
     },
     "execution_count": 6,
     "metadata": {},
     "output_type": "execute_result"
    }
   ],
   "source": [
    "# 新建一個欄位【YEARS_BIRTH_YEAR】，是將【DAYS_BIRTH】/365。\n",
    "# 我真的很討厭拿已經調整過的欄位取代舊欄位，為什麼不保留舊欄位呢？\n",
    "# 直接創一個新欄位，不是很清楚知道是拿舊欄位創出來的嗎？\n",
    "# 如果取代掉舊欄位，那資料跑到後面，當程序很多時，我還會記得舊欄位原本是什麼嗎？\n",
    "# 如果我要拿舊欄位來除以12，不就麻煩了嗎？\n",
    "# 一定要保留舊欄位！\n",
    "t004['YEARS_BIRTH_YEAR'] = t004['DAYS_BIRTH'] / 365\n",
    "t004.head(15)"
   ]
  },
  {
   "cell_type": "code",
   "execution_count": 7,
   "metadata": {},
   "outputs": [
    {
     "name": "stdout",
     "output_type": "stream",
     "text": [
      "(35.0, 40.0]    42868\n",
      "(40.0, 45.0]    41406\n",
      "(30.0, 35.0]    39440\n",
      "(45.0, 50.0]    35135\n",
      "(50.0, 55.0]    34942\n",
      "(55.0, 60.0]    33120\n",
      "(25.0, 30.0]    32862\n",
      "(60.0, 65.0]    27476\n",
      "(20.0, 25.0]    12159\n",
      "(65.0, 70.0]     8103\n",
      "Name: YEARS_BINNED, dtype: int64\n"
     ]
    }
   ],
   "source": [
    "# 自 20 到 70 歲，切 11 個點 (得到 10 組)\n",
    "bin_cut = np.linspace(20, 70, num = 11) \n",
    "\"\"\"\n",
    " 1. 20(不含)~25(含)\n",
    " 2. 25(不含)~30(含)\n",
    "...\n",
    " 9. 60(不含)~65(含)\n",
    "10. 65(不含)~70(含)\n",
    "\"\"\"\n",
    "\n",
    "# 創建新欄位【YEARS_BINNED】\n",
    "t004['YEARS_BINNED'] = pd.cut(t004['YEARS_BIRTH_YEAR'], bins = bin_cut) \n",
    "\n",
    "# 顯示不同組的數量\n",
    "print(t004['YEARS_BINNED'].value_counts())"
   ]
  },
  {
   "cell_type": "markdown",
   "metadata": {},
   "source": [
    "## 等等！等等！\n",
    "## 那20(含)以下，70(不含)以上的去哪了？"
   ]
  },
  {
   "cell_type": "code",
   "execution_count": 8,
   "metadata": {
    "scrolled": true
   },
   "outputs": [
    {
     "name": "stdout",
     "output_type": "stream",
     "text": [
      "Empty DataFrame\n",
      "Columns: [TARGET, DAYS_BIRTH, YEARS_BIRTH_YEAR, YEARS_BINNED]\n",
      "Index: []\n",
      "Empty DataFrame\n",
      "Columns: [TARGET, DAYS_BIRTH, YEARS_BIRTH_YEAR, YEARS_BINNED]\n",
      "Index: []\n"
     ]
    }
   ],
   "source": [
    "t004_f1 = t004['YEARS_BIRTH_YEAR'] <= 20\n",
    "t004_f2 = t004['YEARS_BIRTH_YEAR'] >  70\n",
    "print(t004[t004_f1])\n",
    "print(t004[t004_f2])"
   ]
  },
  {
   "cell_type": "markdown",
   "metadata": {},
   "source": [
    "## 天公伯啊~ 原來資料被設計過，它只介於20~70...\n",
    "## 但我資料不會總是被設計過的啊！正常狀況下一定有【<=20、>70】的資料啊，怎辦？"
   ]
  },
  {
   "cell_type": "code",
   "execution_count": 9,
   "metadata": {
    "scrolled": true
   },
   "outputs": [
    {
     "name": "stdout",
     "output_type": "stream",
     "text": [
      "(35.0, 40.0]    42868\n",
      "(40.0, 45.0]    41406\n",
      "(30.0, 35.0]    39440\n",
      "(45.0, 50.0]    35135\n",
      "(50.0, 55.0]    34942\n",
      "(55.0, 60.0]    33120\n",
      "Name: YEARS_BINNED2, dtype: int64\n"
     ]
    }
   ],
   "source": [
    "bin_cut2 = np.linspace(30, 60, num = 7) \n",
    "\"\"\"\n",
    " 1. 30(不含)~35(含)\n",
    "...\n",
    " 6. 55(不含)~60(含)\n",
    "\"\"\"\n",
    "\n",
    "# 創建新欄位【YEARS_BINNED2】\n",
    "t004['YEARS_BINNED2'] = pd.cut(t004['YEARS_BIRTH_YEAR'], bins = bin_cut2) \n",
    "\n",
    "# 顯示不同組的數量\n",
    "print(t004['YEARS_BINNED2'].value_counts())"
   ]
  },
  {
   "cell_type": "code",
   "execution_count": 10,
   "metadata": {
    "scrolled": false
   },
   "outputs": [
    {
     "name": "stdout",
     "output_type": "stream",
     "text": [
      "    TARGET  DAYS_BIRTH  YEARS_BIRTH_YEAR  YEARS_BINNED YEARS_BINNED2\n",
      "0        1        9461         25.920548  (25.0, 30.0]           NaN\n",
      "10       0       10197         27.936986  (25.0, 30.0]           NaN\n",
      "15       0        8728         23.912329  (20.0, 25.0]           NaN\n",
      "17       0        9776         26.783562  (25.0, 30.0]           NaN\n",
      "28       0        9994         27.380822  (25.0, 30.0]           NaN\n",
      "    TARGET  DAYS_BIRTH  YEARS_BIRTH_YEAR  YEARS_BINNED YEARS_BINNED2\n",
      "23       0       24827         68.019178  (65.0, 70.0]           NaN\n",
      "38       0       23920         65.534247  (65.0, 70.0]           NaN\n",
      "43       0       23548         64.515068  (60.0, 65.0]           NaN\n",
      "62       0       22843         62.583562  (60.0, 65.0]           NaN\n",
      "79       0       22935         62.835616  (60.0, 65.0]           NaN\n"
     ]
    }
   ],
   "source": [
    "t004_f3 = t004['YEARS_BIRTH_YEAR'] <= 30\n",
    "t004_f4 = t004['YEARS_BIRTH_YEAR'] >  60\n",
    "print(t004[t004_f3].head(5))\n",
    "print(t004[t004_f4].head(5))"
   ]
  },
  {
   "cell_type": "markdown",
   "metadata": {},
   "source": [
    "## 於是會發現，這種切法，會導致不在設定範圍內的，全部都變成了NaN！\n",
    "## 如果照教材作法，當現在有有【<20、>=70】的資料時，只會統一變成一種【NaN】，而不會再拆開成【20以下、70以上】。\n",
    "## 顯然教材這種做法是很侷限的。"
   ]
  },
  {
   "cell_type": "code",
   "execution_count": 11,
   "metadata": {
    "scrolled": false
   },
   "outputs": [
    {
     "data": {
      "text/html": [
       "<div>\n",
       "<style scoped>\n",
       "    .dataframe tbody tr th:only-of-type {\n",
       "        vertical-align: middle;\n",
       "    }\n",
       "\n",
       "    .dataframe tbody tr th {\n",
       "        vertical-align: top;\n",
       "    }\n",
       "\n",
       "    .dataframe thead th {\n",
       "        text-align: right;\n",
       "    }\n",
       "</style>\n",
       "<table border=\"1\" class=\"dataframe\">\n",
       "  <thead>\n",
       "    <tr style=\"text-align: right;\">\n",
       "      <th></th>\n",
       "      <th>TARGET</th>\n",
       "      <th>DAYS_BIRTH</th>\n",
       "      <th>YEARS_BIRTH_YEAR</th>\n",
       "      <th>YEARS_BINNED</th>\n",
       "      <th>YEARS_BINNED2</th>\n",
       "      <th>YEARS_BIRTH_YEAR_ADJ</th>\n",
       "    </tr>\n",
       "  </thead>\n",
       "  <tbody>\n",
       "    <tr>\n",
       "      <th>0</th>\n",
       "      <td>1</td>\n",
       "      <td>9461</td>\n",
       "      <td>25.920548</td>\n",
       "      <td>(25.0, 30.0]</td>\n",
       "      <td>NaN</td>\n",
       "      <td>25.920548</td>\n",
       "    </tr>\n",
       "    <tr>\n",
       "      <th>1</th>\n",
       "      <td>0</td>\n",
       "      <td>16765</td>\n",
       "      <td>45.931507</td>\n",
       "      <td>(45.0, 50.0]</td>\n",
       "      <td>(45.0, 50.0]</td>\n",
       "      <td>45.931507</td>\n",
       "    </tr>\n",
       "    <tr>\n",
       "      <th>2</th>\n",
       "      <td>0</td>\n",
       "      <td>19046</td>\n",
       "      <td>52.180822</td>\n",
       "      <td>(50.0, 55.0]</td>\n",
       "      <td>(50.0, 55.0]</td>\n",
       "      <td>52.180822</td>\n",
       "    </tr>\n",
       "    <tr>\n",
       "      <th>3</th>\n",
       "      <td>0</td>\n",
       "      <td>19005</td>\n",
       "      <td>52.068493</td>\n",
       "      <td>(50.0, 55.0]</td>\n",
       "      <td>(50.0, 55.0]</td>\n",
       "      <td>52.068493</td>\n",
       "    </tr>\n",
       "    <tr>\n",
       "      <th>4</th>\n",
       "      <td>0</td>\n",
       "      <td>19932</td>\n",
       "      <td>54.608219</td>\n",
       "      <td>(50.0, 55.0]</td>\n",
       "      <td>(50.0, 55.0]</td>\n",
       "      <td>54.608219</td>\n",
       "    </tr>\n",
       "  </tbody>\n",
       "</table>\n",
       "</div>"
      ],
      "text/plain": [
       "   TARGET  DAYS_BIRTH  YEARS_BIRTH_YEAR  YEARS_BINNED YEARS_BINNED2  \\\n",
       "0       1        9461         25.920548  (25.0, 30.0]           NaN   \n",
       "1       0       16765         45.931507  (45.0, 50.0]  (45.0, 50.0]   \n",
       "2       0       19046         52.180822  (50.0, 55.0]  (50.0, 55.0]   \n",
       "3       0       19005         52.068493  (50.0, 55.0]  (50.0, 55.0]   \n",
       "4       0       19932         54.608219  (50.0, 55.0]  (50.0, 55.0]   \n",
       "\n",
       "   YEARS_BIRTH_YEAR_ADJ  \n",
       "0             25.920548  \n",
       "1             45.931507  \n",
       "2             52.180822  \n",
       "3             52.068493  \n",
       "4             54.608219  "
      ]
     },
     "execution_count": 11,
     "metadata": {},
     "output_type": "execute_result"
    }
   ],
   "source": [
    "# 運用點小技巧，把30以下的收斂成一組，反正我們只想知道30以下的這群人有多少，而不想看這群人分散的狀況。\n",
    "# 那簡單，我就把30以下的全部都當作30歲就好\n",
    "\n",
    "# Python的作法是，先建一個新欄位【YEARS_BIRTH_YEAR_ADJ】，仿照原本的【YEARS_BIRTH_YEAR】(一模一樣)\n",
    "t004['YEARS_BIRTH_YEAR_ADJ'] = t004['YEARS_BIRTH_YEAR']\n",
    "t004.head(5)"
   ]
  },
  {
   "cell_type": "code",
   "execution_count": 12,
   "metadata": {},
   "outputs": [
    {
     "data": {
      "text/html": [
       "<div>\n",
       "<style scoped>\n",
       "    .dataframe tbody tr th:only-of-type {\n",
       "        vertical-align: middle;\n",
       "    }\n",
       "\n",
       "    .dataframe tbody tr th {\n",
       "        vertical-align: top;\n",
       "    }\n",
       "\n",
       "    .dataframe thead th {\n",
       "        text-align: right;\n",
       "    }\n",
       "</style>\n",
       "<table border=\"1\" class=\"dataframe\">\n",
       "  <thead>\n",
       "    <tr style=\"text-align: right;\">\n",
       "      <th></th>\n",
       "      <th>TARGET</th>\n",
       "      <th>DAYS_BIRTH</th>\n",
       "      <th>YEARS_BIRTH_YEAR</th>\n",
       "      <th>YEARS_BINNED</th>\n",
       "      <th>YEARS_BINNED2</th>\n",
       "      <th>YEARS_BIRTH_YEAR_ADJ</th>\n",
       "    </tr>\n",
       "  </thead>\n",
       "  <tbody>\n",
       "    <tr>\n",
       "      <th>0</th>\n",
       "      <td>1</td>\n",
       "      <td>9461</td>\n",
       "      <td>25.920548</td>\n",
       "      <td>(25.0, 30.0]</td>\n",
       "      <td>NaN</td>\n",
       "      <td>30.000000</td>\n",
       "    </tr>\n",
       "    <tr>\n",
       "      <th>1</th>\n",
       "      <td>0</td>\n",
       "      <td>16765</td>\n",
       "      <td>45.931507</td>\n",
       "      <td>(45.0, 50.0]</td>\n",
       "      <td>(45.0, 50.0]</td>\n",
       "      <td>45.931507</td>\n",
       "    </tr>\n",
       "    <tr>\n",
       "      <th>2</th>\n",
       "      <td>0</td>\n",
       "      <td>19046</td>\n",
       "      <td>52.180822</td>\n",
       "      <td>(50.0, 55.0]</td>\n",
       "      <td>(50.0, 55.0]</td>\n",
       "      <td>52.180822</td>\n",
       "    </tr>\n",
       "    <tr>\n",
       "      <th>3</th>\n",
       "      <td>0</td>\n",
       "      <td>19005</td>\n",
       "      <td>52.068493</td>\n",
       "      <td>(50.0, 55.0]</td>\n",
       "      <td>(50.0, 55.0]</td>\n",
       "      <td>52.068493</td>\n",
       "    </tr>\n",
       "    <tr>\n",
       "      <th>4</th>\n",
       "      <td>0</td>\n",
       "      <td>19932</td>\n",
       "      <td>54.608219</td>\n",
       "      <td>(50.0, 55.0]</td>\n",
       "      <td>(50.0, 55.0]</td>\n",
       "      <td>54.608219</td>\n",
       "    </tr>\n",
       "  </tbody>\n",
       "</table>\n",
       "</div>"
      ],
      "text/plain": [
       "   TARGET  DAYS_BIRTH  YEARS_BIRTH_YEAR  YEARS_BINNED YEARS_BINNED2  \\\n",
       "0       1        9461         25.920548  (25.0, 30.0]           NaN   \n",
       "1       0       16765         45.931507  (45.0, 50.0]  (45.0, 50.0]   \n",
       "2       0       19046         52.180822  (50.0, 55.0]  (50.0, 55.0]   \n",
       "3       0       19005         52.068493  (50.0, 55.0]  (50.0, 55.0]   \n",
       "4       0       19932         54.608219  (50.0, 55.0]  (50.0, 55.0]   \n",
       "\n",
       "   YEARS_BIRTH_YEAR_ADJ  \n",
       "0             30.000000  \n",
       "1             45.931507  \n",
       "2             52.180822  \n",
       "3             52.068493  \n",
       "4             54.608219  "
      ]
     },
     "execution_count": 12,
     "metadata": {},
     "output_type": "execute_result"
    }
   ],
   "source": [
    "# 再針對新欄位去改值，一次一次改\n",
    "# 和SQL的差異在於，SQL是一次寫好全改，Python的概念是一個條件一個條件改\n",
    "# 有看過Python其他類似一次改好的做法，但都不如一個條件一個條件改的做法簡明\n",
    "t004.loc[t004['YEARS_BIRTH_YEAR_ADJ'] <= 30,'YEARS_BIRTH_YEAR_ADJ'] = 30 #30易混淆的話，29也可以，只是30也不會收進30~35\n",
    "t004.loc[t004['YEARS_BIRTH_YEAR_ADJ'] >  60,'YEARS_BIRTH_YEAR_ADJ'] = 61 #60的話，會被收進55~60，所以必須>60才可以，就61吧~\n",
    "t004.head(5)"
   ]
  },
  {
   "cell_type": "code",
   "execution_count": 13,
   "metadata": {},
   "outputs": [
    {
     "name": "stdout",
     "output_type": "stream",
     "text": [
      "    TARGET  DAYS_BIRTH  YEARS_BIRTH_YEAR  YEARS_BINNED YEARS_BINNED2  \\\n",
      "0        1        9461         25.920548  (25.0, 30.0]           NaN   \n",
      "10       0       10197         27.936986  (25.0, 30.0]           NaN   \n",
      "15       0        8728         23.912329  (20.0, 25.0]           NaN   \n",
      "17       0        9776         26.783562  (25.0, 30.0]           NaN   \n",
      "28       0        9994         27.380822  (25.0, 30.0]           NaN   \n",
      "\n",
      "    YEARS_BIRTH_YEAR_ADJ  \n",
      "0                   30.0  \n",
      "10                  30.0  \n",
      "15                  30.0  \n",
      "17                  30.0  \n",
      "28                  30.0  \n",
      "    TARGET  DAYS_BIRTH  YEARS_BIRTH_YEAR  YEARS_BINNED YEARS_BINNED2  \\\n",
      "23       0       24827         68.019178  (65.0, 70.0]           NaN   \n",
      "38       0       23920         65.534247  (65.0, 70.0]           NaN   \n",
      "43       0       23548         64.515068  (60.0, 65.0]           NaN   \n",
      "62       0       22843         62.583562  (60.0, 65.0]           NaN   \n",
      "79       0       22935         62.835616  (60.0, 65.0]           NaN   \n",
      "\n",
      "    YEARS_BIRTH_YEAR_ADJ  \n",
      "23                  61.0  \n",
      "38                  61.0  \n",
      "43                  61.0  \n",
      "62                  61.0  \n",
      "79                  61.0  \n"
     ]
    }
   ],
   "source": [
    "t004_f5 = t004['YEARS_BIRTH_YEAR'] <= 30\n",
    "t004_f6 = t004['YEARS_BIRTH_YEAR'] >  60\n",
    "print(t004[t004_f5].head(5))\n",
    "print(t004[t004_f6].head(5))"
   ]
  },
  {
   "cell_type": "code",
   "execution_count": 14,
   "metadata": {
    "scrolled": false
   },
   "outputs": [
    {
     "name": "stdout",
     "output_type": "stream",
     "text": [
      "(25.0, 30.0]    45021\n",
      "(35.0, 40.0]    42868\n",
      "(40.0, 45.0]    41406\n",
      "(30.0, 35.0]    39440\n",
      "(60.0, 65.0]    35579\n",
      "(45.0, 50.0]    35135\n",
      "(50.0, 55.0]    34942\n",
      "(55.0, 60.0]    33120\n",
      "Name: YEARS_BINNED3, dtype: int64\n"
     ]
    }
   ],
   "source": [
    "# 現在已知我們要的分群從30~60有6組(每5為一組)\n",
    "# 然後還知道有【<=30】和【>60】這兩群人\n",
    "# 用相同的方法\n",
    "# 自 25 到 65 歲，切 9 個點 (得到 8 組)\n",
    "bin_cut3 = np.linspace(25, 65, num = 9) \n",
    "\"\"\"\n",
    "但要記得\n",
    " 1. 25~30: 實際是<=30的都在這組\n",
    " 2. 30(不含)~35(含)\n",
    " 3. 35(不含)~40(含)\n",
    " 4. 40(不含)~45(含)\n",
    " 5. 45(不含)~50(含)\n",
    " 6. 50(不含)~55(含)\n",
    " 7. 55(不含)~60(含)\n",
    " 8. 60~65: 實際是>60的都在這組\n",
    "\"\"\"\n",
    "\n",
    "# 創建新欄位【YEARS_BINNED3】\n",
    "t004['YEARS_BINNED3'] = pd.cut(t004['YEARS_BIRTH_YEAR_ADJ'], bins = bin_cut3) \n",
    "\n",
    "# 顯示不同組的數量\n",
    "print(t004['YEARS_BINNED3'].value_counts())"
   ]
  },
  {
   "cell_type": "code",
   "execution_count": 15,
   "metadata": {
    "scrolled": false
   },
   "outputs": [
    {
     "name": "stdout",
     "output_type": "stream",
     "text": [
      "(35.0, 40.0]    42868\n",
      "(40.0, 45.0]    41406\n",
      "(30.0, 35.0]    39440\n",
      "(45.0, 50.0]    35135\n",
      "(50.0, 55.0]    34942\n",
      "(55.0, 60.0]    33120\n",
      "(25.0, 30.0]    32862\n",
      "(60.0, 65.0]    27476\n",
      "(20.0, 25.0]    12159\n",
      "(65.0, 70.0]     8103\n",
      "Name: YEARS_BINNED, dtype: int64\n"
     ]
    }
   ],
   "source": [
    "#回頭看一下第一次的切法，果然20~30、60~70被我們收在一起了\n",
    "print(t004['YEARS_BINNED'].value_counts())"
   ]
  },
  {
   "cell_type": "markdown",
   "metadata": {},
   "source": [
    "## 這解法才真的能有效的把所有非null的值給收進來，否則範圍之外的會變成null。"
   ]
  },
  {
   "cell_type": "code",
   "execution_count": 16,
   "metadata": {},
   "outputs": [],
   "source": [
    "# 我相信有人會說，【先看資料，再決定怎麼切，不會有這問題。】\n",
    "# 不會有這問題？ 如果你看完資料，發現有少部分人落在70~75、75~80、80~85、85~90、90~95、95~100、甚至100~105時！\n",
    "# 但你又不想把這少數人每5歲給分出來，而想要讓這群人被叫做【70歲以上】，那你怎麼辦？\n",
    "# 不可能排除掉這些人，因為這些人的年紀並不是錯誤資料。\n",
    "# 因此在視覺化上面，把這群人歸類成一類並命名為【70歲以上】，是最好的辦法。"
   ]
  },
  {
   "cell_type": "markdown",
   "metadata": {},
   "source": [
    "## 回到題目內容"
   ]
  },
  {
   "cell_type": "code",
   "execution_count": 17,
   "metadata": {},
   "outputs": [
    {
     "name": "stdout",
     "output_type": "stream",
     "text": [
      "[Interval(20.0, 25.0, closed='right') Interval(25.0, 30.0, closed='right')\n",
      " Interval(30.0, 35.0, closed='right') Interval(35.0, 40.0, closed='right')\n",
      " Interval(40.0, 45.0, closed='right') Interval(45.0, 50.0, closed='right')\n",
      " Interval(50.0, 55.0, closed='right') Interval(55.0, 60.0, closed='right')\n",
      " Interval(60.0, 65.0, closed='right') Interval(65.0, 70.0, closed='right')]\n"
     ]
    }
   ],
   "source": [
    "# 繪圖前先排序 / 分組\n",
    "# 設定t005，根據t004['YEARS_BINNED']作唯一排序\n",
    "t005 = np.sort(t004['YEARS_BINNED'].unique())\n",
    "\n",
    "# 看一下排序完的長相\n",
    "print(t005)\n",
    "# 真是意義不明，只能背起來了。"
   ]
  },
  {
   "cell_type": "code",
   "execution_count": 18,
   "metadata": {
    "scrolled": true
   },
   "outputs": [
    {
     "name": "stdout",
     "output_type": "stream",
     "text": [
      "(20.0, 25.0]\n",
      "(25.0, 30.0]\n",
      "(30.0, 35.0]\n",
      "(35.0, 40.0]\n",
      "(40.0, 45.0]\n",
      "(45.0, 50.0]\n",
      "(50.0, 55.0]\n",
      "(55.0, 60.0]\n",
      "(60.0, 65.0]\n",
      "(65.0, 70.0]\n",
      "(20.0, 25.0]\n"
     ]
    }
   ],
   "source": [
    "# 從第1個到第10個，記得Python有個討厭的-1，第一個是0。\n",
    "print(str(t005[0]))\n",
    "print(str(t005[1]))\n",
    "print(str(t005[2]))\n",
    "print(str(t005[3]))\n",
    "print(str(t005[4]))\n",
    "print(str(t005[5]))\n",
    "print(str(t005[6]))\n",
    "print(str(t005[7]))\n",
    "print(str(t005[8]))\n",
    "print(str(t005[9]))\n",
    "# 這樣看來不必掛str，呈現起來是一樣的。\n",
    "# 而且之後sns.distplot的作圖也沒有限定必須轉成str，故教材掛上str，意義不明。\n",
    "print(t005[0])"
   ]
  },
  {
   "cell_type": "code",
   "execution_count": 19,
   "metadata": {},
   "outputs": [
    {
     "name": "stdout",
     "output_type": "stream",
     "text": [
      "10\n"
     ]
    }
   ],
   "source": [
    "# 由於接著要設定for迴圈，讓i在某個範圍跑，for i in range(x)\n",
    "# 而x必須是一個整數，依照題目目的，我們需要t005跑10次，所以拿【len(t005)】來作為這個整數\n",
    "t005_1 = len(t005)\n",
    "print(t005_1)"
   ]
  },
  {
   "cell_type": "code",
   "execution_count": 20,
   "metadata": {
    "scrolled": true
   },
   "outputs": [
    {
     "name": "stdout",
     "output_type": "stream",
     "text": [
      "range(0, 10)\n"
     ]
    }
   ],
   "source": [
    "# range(10)，印出來會變成range(0,10)\n",
    "t005_2 = range(t005_1)\n",
    "print(t005_2)"
   ]
  },
  {
   "cell_type": "code",
   "execution_count": 21,
   "metadata": {
    "scrolled": false
   },
   "outputs": [
    {
     "data": {
      "image/png": "[encoded data removed]",
      "text/plain": [
       "<Figure size 720x360 with 1 Axes>"
      ]
     },
     "metadata": {},
     "output_type": "display_data"
    },
    {
     "data": {
      "text/plain": [
       "'\\n* 以下是社群講師回覆內容：\\n* age_data[\\'YEARS_BINNED\\'] == year_group_sorted[i] => 符合條件 YEARS_BINNED 欄位 = year_group_sorted 的 Boolean Series\\n* age_data[\\'TARGET\\'] == 0 => 符合條件 TARGET 欄位 = 0 的 Boolean Series\\n* (age_data...) & (age_data...) => 把兩個條件做 &，也有是兩個條件同時存在時\\n* age_data.loc[..., ...] => loc 是一種取值方式，左邊放 Row 條件，右邊放 Column。原本的寫法就是挑出符合上面條件的 YEARS_BIRTH_YEAR 欄位。\\n\\n如講師回覆，loc的左邊，就類似where的概念；loc的右邊，就類似select column的概念。\\n\\nsns.distplot(A,B)\\n\\nA：\\nselect \"YEARS_BIRTH_YEAR\"\\nfrom t004\\nwhere\\n    t004[\\'YEARS_BINNED\\'] == t005[i]\\nand t004[\\'TARGET\\']       == 0\\n\\nB：\\nlabel = t005[i]\\n\\n'"
      ]
     },
     "execution_count": 21,
     "metadata": {},
     "output_type": "execute_result"
    }
   ],
   "source": [
    "# 圖片大小，要先寫\n",
    "plt.figure(figsize=(10,5))\n",
    "\n",
    "# 開始作圖\n",
    "# i跑10次，每跑一次做sns.distplot這件事\n",
    "for i in t005_2:\n",
    "    sns.distplot(t004.loc[(t004['YEARS_BINNED'] == t005[i]) & \\\n",
    "                              (t004['TARGET'] == 0), 'YEARS_BIRTH_YEAR'], label = t005[i])\n",
    "    sns.distplot(t004.loc[(t004['YEARS_BINNED'] == t005[i]) & \\\n",
    "                              (t004['TARGET'] == 1), 'YEARS_BIRTH_YEAR'], label = t005[i])\n",
    "\n",
    "# 標題 \n",
    "plt.title('KDE with Age groups')\n",
    "plt.show()\n",
    "\"\"\"\n",
    "* 以下是社群講師回覆內容：\n",
    "* age_data['YEARS_BINNED'] == year_group_sorted[i] => 符合條件 YEARS_BINNED 欄位 = year_group_sorted 的 Boolean Series\n",
    "* age_data['TARGET'] == 0 => 符合條件 TARGET 欄位 = 0 的 Boolean Series\n",
    "* (age_data...) & (age_data...) => 把兩個條件做 &，也有是兩個條件同時存在時\n",
    "* age_data.loc[..., ...] => loc 是一種取值方式，左邊放 Row 條件，右邊放 Column。原本的寫法就是挑出符合上面條件的 YEARS_BIRTH_YEAR 欄位。\n",
    "\n",
    "如講師回覆，loc的左邊，就類似where的概念；loc的右邊，就類似select column的概念。\n",
    "\n",
    "sns.distplot(A,B)\n",
    "\n",
    "A：\n",
    "select \"YEARS_BIRTH_YEAR\"\n",
    "from t004\n",
    "where\n",
    "    t004['YEARS_BINNED'] == t005[i]\n",
    "and t004['TARGET']       == 0\n",
    "\n",
    "B：\n",
    "label = t005[i]\n",
    "\n",
    "\"\"\""
   ]
  },
  {
   "cell_type": "markdown",
   "metadata": {},
   "source": [
    "## 我是真心不知道把上圖疊加起來是要看三...為什麼不拆開來看呢？"
   ]
  },
  {
   "cell_type": "code",
   "execution_count": 22,
   "metadata": {},
   "outputs": [
    {
     "data": {
      "image/png": "[encoded data removed]",
      "text/plain": [
       "<Figure size 720x216 with 1 Axes>"
      ]
     },
     "metadata": {},
     "output_type": "display_data"
    },
    {
     "data": {
      "image/png": "[encoded data removed]",
      "text/plain": [
       "<Figure size 720x216 with 1 Axes>"
      ]
     },
     "metadata": {},
     "output_type": "display_data"
    }
   ],
   "source": [
    "plt.figure(figsize=(10,3))\n",
    "for i in t005_2:\n",
    "    sns.distplot(t004.loc[(t004['YEARS_BINNED'] == t005[i]) & \\\n",
    "                              (t004['TARGET'] == 0), 'YEARS_BIRTH_YEAR'], label = t005[i])\n",
    "plt.title('KDE with Age groups Target = 0')\n",
    "plt.show()\n",
    "\n",
    "plt.figure(figsize=(10,3))\n",
    "for i in t005_2:\n",
    "    sns.distplot(t004.loc[(t004['YEARS_BINNED'] == t005[i]) & \\\n",
    "                              (t004['TARGET'] == 1), 'YEARS_BIRTH_YEAR'], label = t005[i])\n",
    "plt.title('KDE with Age groups Target = 1')\n",
    "plt.show()"
   ]
  },
  {
   "cell_type": "code",
   "execution_count": 23,
   "metadata": {
    "scrolled": true
   },
   "outputs": [
    {
     "data": {
      "text/html": [
       "<div>\n",
       "<style scoped>\n",
       "    .dataframe tbody tr th:only-of-type {\n",
       "        vertical-align: middle;\n",
       "    }\n",
       "\n",
       "    .dataframe tbody tr th {\n",
       "        vertical-align: top;\n",
       "    }\n",
       "\n",
       "    .dataframe thead th {\n",
       "        text-align: right;\n",
       "    }\n",
       "</style>\n",
       "<table border=\"1\" class=\"dataframe\">\n",
       "  <thead>\n",
       "    <tr style=\"text-align: right;\">\n",
       "      <th></th>\n",
       "      <th>TARGET</th>\n",
       "      <th>DAYS_BIRTH</th>\n",
       "      <th>YEARS_BIRTH_YEAR</th>\n",
       "      <th>YEARS_BIRTH_YEAR_ADJ</th>\n",
       "    </tr>\n",
       "    <tr>\n",
       "      <th>YEARS_BINNED</th>\n",
       "      <th></th>\n",
       "      <th></th>\n",
       "      <th></th>\n",
       "      <th></th>\n",
       "    </tr>\n",
       "  </thead>\n",
       "  <tbody>\n",
       "    <tr>\n",
       "      <th>(20.0, 25.0]</th>\n",
       "      <td>0.123036</td>\n",
       "      <td>8532.795625</td>\n",
       "      <td>23.377522</td>\n",
       "      <td>30.000000</td>\n",
       "    </tr>\n",
       "    <tr>\n",
       "      <th>(25.0, 30.0]</th>\n",
       "      <td>0.111436</td>\n",
       "      <td>10155.219250</td>\n",
       "      <td>27.822518</td>\n",
       "      <td>30.000000</td>\n",
       "    </tr>\n",
       "    <tr>\n",
       "      <th>(30.0, 35.0]</th>\n",
       "      <td>0.102814</td>\n",
       "      <td>11854.848377</td>\n",
       "      <td>32.479037</td>\n",
       "      <td>32.479037</td>\n",
       "    </tr>\n",
       "    <tr>\n",
       "      <th>(35.0, 40.0]</th>\n",
       "      <td>0.089414</td>\n",
       "      <td>13707.908253</td>\n",
       "      <td>37.555913</td>\n",
       "      <td>37.555913</td>\n",
       "    </tr>\n",
       "    <tr>\n",
       "      <th>(40.0, 45.0]</th>\n",
       "      <td>0.078491</td>\n",
       "      <td>15497.661233</td>\n",
       "      <td>42.459346</td>\n",
       "      <td>42.459346</td>\n",
       "    </tr>\n",
       "    <tr>\n",
       "      <th>(45.0, 50.0]</th>\n",
       "      <td>0.074171</td>\n",
       "      <td>17323.900441</td>\n",
       "      <td>47.462741</td>\n",
       "      <td>47.462741</td>\n",
       "    </tr>\n",
       "    <tr>\n",
       "      <th>(50.0, 55.0]</th>\n",
       "      <td>0.066968</td>\n",
       "      <td>19196.494791</td>\n",
       "      <td>52.593136</td>\n",
       "      <td>52.593136</td>\n",
       "    </tr>\n",
       "    <tr>\n",
       "      <th>(55.0, 60.0]</th>\n",
       "      <td>0.055314</td>\n",
       "      <td>20984.262742</td>\n",
       "      <td>57.491131</td>\n",
       "      <td>57.491131</td>\n",
       "    </tr>\n",
       "    <tr>\n",
       "      <th>(60.0, 65.0]</th>\n",
       "      <td>0.052737</td>\n",
       "      <td>22780.547460</td>\n",
       "      <td>62.412459</td>\n",
       "      <td>61.000000</td>\n",
       "    </tr>\n",
       "    <tr>\n",
       "      <th>(65.0, 70.0]</th>\n",
       "      <td>0.037270</td>\n",
       "      <td>24292.614340</td>\n",
       "      <td>66.555108</td>\n",
       "      <td>61.000000</td>\n",
       "    </tr>\n",
       "  </tbody>\n",
       "</table>\n",
       "</div>"
      ],
      "text/plain": [
       "                TARGET    DAYS_BIRTH  YEARS_BIRTH_YEAR  YEARS_BIRTH_YEAR_ADJ\n",
       "YEARS_BINNED                                                                \n",
       "(20.0, 25.0]  0.123036   8532.795625         23.377522             30.000000\n",
       "(25.0, 30.0]  0.111436  10155.219250         27.822518             30.000000\n",
       "(30.0, 35.0]  0.102814  11854.848377         32.479037             32.479037\n",
       "(35.0, 40.0]  0.089414  13707.908253         37.555913             37.555913\n",
       "(40.0, 45.0]  0.078491  15497.661233         42.459346             42.459346\n",
       "(45.0, 50.0]  0.074171  17323.900441         47.462741             47.462741\n",
       "(50.0, 55.0]  0.066968  19196.494791         52.593136             52.593136\n",
       "(55.0, 60.0]  0.055314  20984.262742         57.491131             57.491131\n",
       "(60.0, 65.0]  0.052737  22780.547460         62.412459             61.000000\n",
       "(65.0, 70.0]  0.037270  24292.614340         66.555108             61.000000"
      ]
     },
     "execution_count": 23,
     "metadata": {},
     "output_type": "execute_result"
    }
   ],
   "source": [
    "# 計算每個年齡區間的 Target、DAYS_BIRTH與 YEARS_BIRTH 的平均值\n",
    "t006 = t004.groupby('YEARS_BINNED').mean()\n",
    "t006"
   ]
  },
  {
   "cell_type": "code",
   "execution_count": 24,
   "metadata": {
    "scrolled": true
   },
   "outputs": [
    {
     "data": {
      "text/plain": [
       "Text(0.5, 1.0, 'Failure to Repay by Age Group')"
      ]
     },
     "execution_count": 24,
     "metadata": {},
     "output_type": "execute_result"
    },
    {
     "data": {
      "image/png": "[encoded data removed]",
      "text/plain": [
       "<Figure size 360x360 with 1 Axes>"
      ]
     },
     "metadata": {},
     "output_type": "display_data"
    }
   ],
   "source": [
    "# 圖片大小，要先寫\n",
    "plt.figure(figsize = (5, 5))\n",
    "\n",
    "# 以年齡區間為 x, target 為 y 繪製 barplot\n",
    "px = t006.index.astype(str)\n",
    "py = 100 * t006['TARGET']\n",
    "sns.barplot(px, py)\n",
    "\n",
    "# X軸各內容字樣要以幾度呈現？90度(垂直)？0度(水平)？180度(水平反過來)？\n",
    "plt.xticks(rotation = 90)\n",
    "\n",
    "# 標題\n",
    "plt.xlabel('Age Group (years)')\n",
    "plt.ylabel('Failure to Repay (%)')\n",
    "plt.title('Failure to Repay by Age Group')"
   ]
  },
  {
   "cell_type": "markdown",
   "metadata": {},
   "source": [
    "### Day11教材方向和目標\n",
    "1. subset的作法(select的概念)\n",
    "2. bin_cut = np.linspace(20, 70, num = 11) 20~70切10組\n",
    "3. sns.distplot、sns.barplot\n",
    "4. SQL中case when的作法，t004.loc[t004['YEARS_BIRTH_YEAR_ADJ'] <= 30,'YEARS_BIRTH_YEAR_ADJ'] = 30。<=30的都列成30。\n",
    "5. loc是一種取值方式，左邊放Row條件，右邊放Column。\n",
    "\n",
    "Python的loc意思例如：  \n",
    "age_data.loc[colA <= 30,colB]  \n",
    "意思等同：  \n",
    "select colB from age_data where colA <= 30  \n",
    "如果只有：  \n",
    "age_data.loc[colA <= 30]  \n",
    "意思等同：  \n",
    "select * from age_data where colA <= 30  \n",
    "\n",
    "### Day11忽略部分\n",
    "1. plt.style.use('ggplot')的意義用意\n",
    "2. sns.distplot所使用的複雜寫法必須熟練\n",
    "3. Kernel Density Estimation的實際意義\n",
    " \n",
    "### Day11其他補充\n",
    "BIN這個議題在我職涯中實作過非常多次，我的解法才是最佳的處理方式。"
   ]
  },
  {
   "cell_type": "code",
   "execution_count": null,
   "metadata": {},
   "outputs": [],
   "source": []
  }
 ],
 "metadata": {
  "anaconda-cloud": {},
  "kernelspec": {
   "display_name": "Python 3",
   "language": "python",
   "name": "python3"
  },
  "language_info": {
   "codemirror_mode": {
    "name": "ipython",
    "version": 3
   },
   "file_extension": ".py",
   "mimetype": "text/x-python",
   "name": "python",
   "nbconvert_exporter": "python",
   "pygments_lexer": "ipython3",
   "version": "3.7.3"
  }
 },
 "nbformat": 4,
 "nbformat_minor": 1
}
